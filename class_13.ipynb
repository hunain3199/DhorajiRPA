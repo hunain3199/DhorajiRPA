{
 "cells": [
  {
   "cell_type": "code",
   "execution_count": 93,
   "metadata": {},
   "outputs": [],
   "source": [
    "class calc():\n",
    "    def __init__(self,num1,num2):\n",
    "        self.num1 = num1\n",
    "        self.num2 = num2\n",
    "    def add(self):\n",
    "        num1 = self.num1\n",
    "        num2 = self.num2\n",
    "        print(num1 + num2)\n",
    "    def sub(self):\n",
    "        num1 = self.num1\n",
    "        num2 = self.num2\n",
    "        print(num1 - num2)\n",
    "    def mul(self):\n",
    "        num1 = self.num1\n",
    "        num2 = self.num2\n",
    "        print(num1 * num2)\n",
    "    def div(self):\n",
    "        num1 = self.num1\n",
    "        num2 = self.num2\n",
    "        print(num1/num2)\n",
    "    def max(self):\n",
    "        num1 = self.num1\n",
    "        num2 = self.num2\n",
    "        list = [num1,num2]\n",
    "        print(max(list))\n",
    "    def min(self):\n",
    "        num1 = self.num1\n",
    "        num2 = self.num2\n",
    "        list = [num1,num2]\n",
    "        print(min(list))"
   ]
  },
  {
   "cell_type": "code",
   "execution_count": 94,
   "metadata": {},
   "outputs": [],
   "source": [
    "calc1 = calc(2,3)"
   ]
  },
  {
   "cell_type": "code",
   "execution_count": 95,
   "metadata": {},
   "outputs": [
    {
     "name": "stdout",
     "output_type": "stream",
     "text": [
      "2 3\n"
     ]
    }
   ],
   "source": [
    "print(calc1.num1,calc1.num2)"
   ]
  },
  {
   "cell_type": "code",
   "execution_count": 96,
   "metadata": {},
   "outputs": [
    {
     "name": "stdout",
     "output_type": "stream",
     "text": [
      "5\n"
     ]
    }
   ],
   "source": [
    "calc1.add()"
   ]
  },
  {
   "cell_type": "code",
   "execution_count": 97,
   "metadata": {},
   "outputs": [
    {
     "name": "stdout",
     "output_type": "stream",
     "text": [
      "-1\n"
     ]
    }
   ],
   "source": [
    "calc1.sub()"
   ]
  },
  {
   "cell_type": "code",
   "execution_count": 98,
   "metadata": {},
   "outputs": [
    {
     "name": "stdout",
     "output_type": "stream",
     "text": [
      "6\n"
     ]
    }
   ],
   "source": [
    "calc1.mul()"
   ]
  },
  {
   "cell_type": "code",
   "execution_count": 99,
   "metadata": {},
   "outputs": [
    {
     "name": "stdout",
     "output_type": "stream",
     "text": [
      "0.6666666666666666\n"
     ]
    }
   ],
   "source": [
    "calc1.div()"
   ]
  },
  {
   "cell_type": "code",
   "execution_count": 100,
   "metadata": {},
   "outputs": [
    {
     "name": "stdout",
     "output_type": "stream",
     "text": [
      "3\n"
     ]
    }
   ],
   "source": [
    "calc1.max()"
   ]
  },
  {
   "cell_type": "code",
   "execution_count": 101,
   "metadata": {},
   "outputs": [
    {
     "name": "stdout",
     "output_type": "stream",
     "text": [
      "2\n"
     ]
    }
   ],
   "source": [
    "calc1.min()"
   ]
  },
  {
   "cell_type": "markdown",
   "metadata": {},
   "source": [
    "# DATA FILES"
   ]
  },
  {
   "cell_type": "markdown",
   "metadata": {},
   "source": [
    "## writing data"
   ]
  },
  {
   "cell_type": "code",
   "execution_count": 102,
   "metadata": {},
   "outputs": [],
   "source": [
    "with open(\"file.txt\",\"w\") as f:\n",
    "    f.write(\"HelloWorld\")\n",
    "    "
   ]
  },
  {
   "cell_type": "code",
   "execution_count": 104,
   "metadata": {},
   "outputs": [
    {
     "data": {
      "text/plain": [
       "12"
      ]
     },
     "execution_count": 104,
     "metadata": {},
     "output_type": "execute_result"
    }
   ],
   "source": [
    "f = open(\"file.txt\",\"w\")\n",
    "f.write(\"Helloworld 2\")"
   ]
  },
  {
   "cell_type": "markdown",
   "metadata": {},
   "source": [
    "## Appending Data"
   ]
  },
  {
   "cell_type": "code",
   "execution_count": 109,
   "metadata": {},
   "outputs": [],
   "source": [
    "with open(\"appending.txt\", \"a\") as f:\n",
    "    f.write(\"Helloworld \\n\")\n",
    "    f.write(\"Helloworld1 \\n\")\n",
    "    f.write(\"Helloworld2 \\n\")\n",
    "    f.write(\"Helloworld3 \\n\")\n",
    "    f.write(\"Helloworld4 \\n\")\n",
    "    f.write(\"Helloworld \\n\")\n",
    "    f.write(\"Helloworld1 \\n\")\n",
    "    f.write(\"Helloworld2 \\n\")\n",
    "    f.write(\"Helloworld3 \\n\")\n",
    "    f.write(\"Helloworld4 \\n\")\n",
    "    f.write(\"Helloworld \\n\")\n",
    "    f.write(\"Helloworld1 \\n\")\n",
    "    f.write(\"Helloworld2 \\n\")\n",
    "    f.write(\"Helloworld3 \\n\")\n",
    "    f.write(\"Helloworld4 \\n\")"
   ]
  },
  {
   "cell_type": "markdown",
   "metadata": {},
   "source": [
    "# Reading Data"
   ]
  },
  {
   "cell_type": "code",
   "execution_count": 110,
   "metadata": {},
   "outputs": [],
   "source": [
    "with open(\"appending.txt\",\"r\") as f:\n",
    "    data = f.read()"
   ]
  },
  {
   "cell_type": "code",
   "execution_count": 111,
   "metadata": {},
   "outputs": [
    {
     "data": {
      "text/plain": [
       "'HelloworldHelloworldHelloworldHelloworld1Helloworld2Helloworld3Helloworld4Helloworld \\nHelloworld1 \\nHelloworld2 \\nHelloworld3 \\nHelloworld4 \\nHelloworld \\nHelloworld1 \\nHelloworld2 \\nHelloworld3 \\nHelloworld4 \\nHelloworld \\nHelloworld1 \\nHelloworld2 \\nHelloworld3 \\nHelloworld4 \\nHelloworld \\nHelloworld1 \\nHelloworld2 \\nHelloworld3 \\nHelloworld4 \\nHelloworld \\nHelloworld1 \\nHelloworld2 \\nHelloworld3 \\nHelloworld4 \\nHelloworld \\nHelloworld1 \\nHelloworld2 \\nHelloworld3 \\nHelloworld4 \\nHelloworld \\nHelloworld1 \\nHelloworld2 \\nHelloworld3 \\nHelloworld4 \\n'"
      ]
     },
     "execution_count": 111,
     "metadata": {},
     "output_type": "execute_result"
    }
   ],
   "source": [
    "data"
   ]
  },
  {
   "cell_type": "code",
   "execution_count": 115,
   "metadata": {},
   "outputs": [],
   "source": [
    "with open(\"C:/Users/STUDENTS/Desktop/appending.txt\",\"r\") as f:\n",
    "    data1 = f.read()"
   ]
  },
  {
   "cell_type": "code",
   "execution_count": 116,
   "metadata": {},
   "outputs": [
    {
     "data": {
      "text/plain": [
       "'HelloworldHelloworldHelloworldHelloworld1Helloworld2Helloworld3Helloworld4Helloworld \\nHelloworld1 \\nHelloworld2 \\nHelloworld3 \\nHelloworld4 \\nHelloworld \\nHelloworld1 \\nHelloworld2 \\nHelloworld3 \\nHelloworld4 \\nHelloworld \\nHelloworld1 \\nHelloworld2 \\nHelloworld3 \\nHelloworld4 \\nHelloworld \\nHelloworld1 \\nHelloworld2 \\nHelloworld3 \\nHelloworld4 \\nHelloworld \\nHelloworld1 \\nHelloworld2 \\nHelloworld3 \\nHelloworld4 \\nHelloworld \\nHelloworld1 \\nHelloworld2 \\nHelloworld3 \\nHelloworld4 \\nHelloworld \\nHelloworld1 \\nHelloworld2 \\nHelloworld3 \\nHelloworld4 \\n'"
      ]
     },
     "execution_count": 116,
     "metadata": {},
     "output_type": "execute_result"
    }
   ],
   "source": [
    "data1"
   ]
  },
  {
   "cell_type": "code",
   "execution_count": 120,
   "metadata": {},
   "outputs": [
    {
     "data": {
      "text/plain": [
       "str"
      ]
     },
     "execution_count": 120,
     "metadata": {},
     "output_type": "execute_result"
    }
   ],
   "source": [
    "type(data)"
   ]
  },
  {
   "cell_type": "code",
   "execution_count": 117,
   "metadata": {},
   "outputs": [
    {
     "data": {
      "text/plain": [
       "['HelloworldHelloworldHelloworldHelloworld1Helloworld2Helloworld3Helloworld4Helloworld',\n",
       " 'Helloworld1',\n",
       " 'Helloworld2',\n",
       " 'Helloworld3',\n",
       " 'Helloworld4',\n",
       " 'Helloworld',\n",
       " 'Helloworld1',\n",
       " 'Helloworld2',\n",
       " 'Helloworld3',\n",
       " 'Helloworld4',\n",
       " 'Helloworld',\n",
       " 'Helloworld1',\n",
       " 'Helloworld2',\n",
       " 'Helloworld3',\n",
       " 'Helloworld4',\n",
       " 'Helloworld',\n",
       " 'Helloworld1',\n",
       " 'Helloworld2',\n",
       " 'Helloworld3',\n",
       " 'Helloworld4',\n",
       " 'Helloworld',\n",
       " 'Helloworld1',\n",
       " 'Helloworld2',\n",
       " 'Helloworld3',\n",
       " 'Helloworld4',\n",
       " 'Helloworld',\n",
       " 'Helloworld1',\n",
       " 'Helloworld2',\n",
       " 'Helloworld3',\n",
       " 'Helloworld4',\n",
       " 'Helloworld',\n",
       " 'Helloworld1',\n",
       " 'Helloworld2',\n",
       " 'Helloworld3',\n",
       " 'Helloworld4']"
      ]
     },
     "execution_count": 117,
     "metadata": {},
     "output_type": "execute_result"
    }
   ],
   "source": [
    "data.split()"
   ]
  },
  {
   "cell_type": "code",
   "execution_count": 118,
   "metadata": {},
   "outputs": [
    {
     "data": {
      "text/plain": [
       "['HelloworldHelloworldHelloworldHelloworld1Helloworld2Helloworld3Helloworld4Helloworld ',\n",
       " 'Helloworld1 ',\n",
       " 'Helloworld2 ',\n",
       " 'Helloworld3 ',\n",
       " 'Helloworld4 ',\n",
       " 'Helloworld ',\n",
       " 'Helloworld1 ',\n",
       " 'Helloworld2 ',\n",
       " 'Helloworld3 ',\n",
       " 'Helloworld4 ',\n",
       " 'Helloworld ',\n",
       " 'Helloworld1 ',\n",
       " 'Helloworld2 ',\n",
       " 'Helloworld3 ',\n",
       " 'Helloworld4 ',\n",
       " 'Helloworld ',\n",
       " 'Helloworld1 ',\n",
       " 'Helloworld2 ',\n",
       " 'Helloworld3 ',\n",
       " 'Helloworld4 ',\n",
       " 'Helloworld ',\n",
       " 'Helloworld1 ',\n",
       " 'Helloworld2 ',\n",
       " 'Helloworld3 ',\n",
       " 'Helloworld4 ',\n",
       " 'Helloworld ',\n",
       " 'Helloworld1 ',\n",
       " 'Helloworld2 ',\n",
       " 'Helloworld3 ',\n",
       " 'Helloworld4 ',\n",
       " 'Helloworld ',\n",
       " 'Helloworld1 ',\n",
       " 'Helloworld2 ',\n",
       " 'Helloworld3 ',\n",
       " 'Helloworld4 ',\n",
       " '']"
      ]
     },
     "execution_count": 118,
     "metadata": {},
     "output_type": "execute_result"
    }
   ],
   "source": [
    "data.split(\"\\n\")"
   ]
  },
  {
   "cell_type": "code",
   "execution_count": 121,
   "metadata": {},
   "outputs": [],
   "source": [
    "dataa = type(data1.split())"
   ]
  },
  {
   "cell_type": "code",
   "execution_count": 122,
   "metadata": {},
   "outputs": [
    {
     "data": {
      "text/plain": [
       "list"
      ]
     },
     "execution_count": 122,
     "metadata": {},
     "output_type": "execute_result"
    }
   ],
   "source": [
    "dataa"
   ]
  },
  {
   "cell_type": "code",
   "execution_count": 137,
   "metadata": {},
   "outputs": [],
   "source": [
    "with open (\"filew.txt\",\"w\") as f:\n",
    "    f.write(\"My name is Hunain Irfan and i am learning rpa from dhoraji\")\n",
    "    \n",
    " "
   ]
  },
  {
   "cell_type": "code",
   "execution_count": 139,
   "metadata": {},
   "outputs": [],
   "source": [
    "with open(\"filew.txt\",\"r\")as f:\n",
    "    \n",
    "    datas = f.read()"
   ]
  },
  {
   "cell_type": "code",
   "execution_count": 140,
   "metadata": {},
   "outputs": [
    {
     "data": {
      "text/plain": [
       "11"
      ]
     },
     "execution_count": 140,
     "metadata": {},
     "output_type": "execute_result"
    }
   ],
   "source": [
    "datas.index(\"Hunain\")"
   ]
  },
  {
   "cell_type": "code",
   "execution_count": 143,
   "metadata": {},
   "outputs": [],
   "source": [
    "list = datas.split()"
   ]
  },
  {
   "cell_type": "code",
   "execution_count": 144,
   "metadata": {},
   "outputs": [
    {
     "data": {
      "text/plain": [
       "3"
      ]
     },
     "execution_count": 144,
     "metadata": {},
     "output_type": "execute_result"
    }
   ],
   "source": [
    "list.index(\"Hunain\")"
   ]
  },
  {
   "cell_type": "code",
   "execution_count": null,
   "metadata": {},
   "outputs": [],
   "source": []
  }
 ],
 "metadata": {
  "kernelspec": {
   "display_name": "Python 3",
   "language": "python",
   "name": "python3"
  },
  "language_info": {
   "codemirror_mode": {
    "name": "ipython",
    "version": 3
   },
   "file_extension": ".py",
   "mimetype": "text/x-python",
   "name": "python",
   "nbconvert_exporter": "python",
   "pygments_lexer": "ipython3",
   "version": "3.8.5"
  }
 },
 "nbformat": 4,
 "nbformat_minor": 4
}
