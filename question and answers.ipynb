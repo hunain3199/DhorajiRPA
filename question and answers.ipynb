{
 "cells": [
  {
   "cell_type": "code",
   "execution_count": 6,
   "metadata": {},
   "outputs": [],
   "source": [
    "database = [\n",
    "    {\n",
    "        \"ques\" : \"What comes after 6 \",\n",
    "        \"opt1\" : 7,\n",
    "        \"opt2\" :11,\n",
    "        \"opt3\" : 5,\n",
    "        \"ans\"  :7\n",
    "        \n",
    "     },\n",
    "    {\n",
    "        \"ques\" : \"What comes before 10 \",\n",
    "        \"opt1\" : 8,\n",
    "        \"opt2\" : 9,\n",
    "        \"opt3\" : 11,\n",
    "        \"ans\"  : 9\n",
    "        \n",
    "    },\n",
    "    {\n",
    "        \"ques\" : \"When a number multiplied by 2 and then subtract by 4, answer is 4. What is the number \",\n",
    "        \"opt1\" : 5,\n",
    "        \"opt2\" : 6,\n",
    "        \"opt3\" : 4,\n",
    "        \"ans\"  : 4\n",
    "        \n",
    "    }\n",
    "]"
   ]
  },
  {
   "cell_type": "code",
   "execution_count": 34,
   "metadata": {},
   "outputs": [
    {
     "name": "stdout",
     "output_type": "stream",
     "text": [
      "What comes after 6 \n",
      "7\n",
      "11\n",
      "5\n",
      "Enter Answer 7\n",
      "Your Answer is correct \n",
      "What comes before 10 \n",
      "8\n",
      "9\n",
      "11\n",
      "Enter Answer 9\n",
      "Your Answer is correct \n",
      "When a number multiplied by 2 and then subtract by 4, answer is 4. What is the number \n",
      "5\n",
      "6\n",
      "4\n",
      "Enter Answer 4\n",
      "Your Answer is correct \n"
     ]
    }
   ],
   "source": [
    "userInput = \"\"\n",
    "for i in database:\n",
    "    ques = i[\"ques\"]\n",
    "    opt1 = i[\"opt1\"]\n",
    "    opt2 = i[\"opt2\"]\n",
    "    opt3 = i[\"opt3\"]\n",
    "    ans = i[\"ans\"]\n",
    "   \n",
    "    print(ques)\n",
    "    print(opt1)\n",
    "    print(opt2)\n",
    "    print(opt3)\n",
    "    userInput = int(input(\"Enter Answer \"))\n",
    "    if userInput == ans:\n",
    "        print(\"Your Answer is correct \")\n",
    "    else:\n",
    "        print(\"Your Answer is Incorrect \")\n",
    "        break\n",
    "  "
   ]
  },
  {
   "cell_type": "markdown",
   "metadata": {},
   "source": [
    "# using for Loops"
   ]
  },
  {
   "cell_type": "code",
   "execution_count": 11,
   "metadata": {},
   "outputs": [],
   "source": [
    "database = [\n",
    "    {\n",
    "        \"ques\" : \"What comes after 6 \",\n",
    "        \"opt1\" : 7,\n",
    "        \"opt2\" :11,\n",
    "        \"opt3\" : 5,\n",
    "        \"ans\"  :7\n",
    "        \n",
    "     },\n",
    "    {\n",
    "        \"ques\" : \"What comes before 10 \",\n",
    "        \"opt1\" : 8,\n",
    "        \"opt2\" : 9,\n",
    "        \"opt3\" : 11,\n",
    "        \"ans\"  : 9\n",
    "        \n",
    "    },\n",
    "    {\n",
    "        \"ques\" : \"When a number multiplied by 2 and then subtract by 4, answer is 4. What is the number \",\n",
    "        \"opt1\" : 5,\n",
    "        \"opt2\" : 6,\n",
    "        \"opt3\" : 4,\n",
    "        \"ans\"  : 4\n",
    "        \n",
    "    }\n",
    "]"
   ]
  },
  {
   "cell_type": "code",
   "execution_count": 33,
   "metadata": {},
   "outputs": [
    {
     "name": "stdout",
     "output_type": "stream",
     "text": [
      "What comes after 6 \n",
      "7\n",
      "11\n",
      "5\n",
      "Enter Answer 7\n",
      "Correct Answer \n",
      "What comes before 10 \n",
      "8\n",
      "9\n",
      "11\n",
      "Enter Answer 4\n",
      "Incorrect Answer \n"
     ]
    }
   ],
   "source": [
    "length = len(database)\n",
    "i = 0\n",
    "\n",
    "while i < length:\n",
    "    ques = database[i][\"ques\"]\n",
    "    opt1 = database[i][\"opt1\"]\n",
    "    opt2 = database[i][\"opt2\"]\n",
    "    opt3 = database[i][\"opt3\"]\n",
    "    ans = database[i][\"ans\"]\n",
    "    i = i + 1\n",
    "    print(ques)\n",
    "    print(opt1)\n",
    "    print(opt2)\n",
    "    print(opt3)\n",
    "    userInput = int(input(\"Enter Answer \"))\n",
    "    if userInput == ans:\n",
    "        print(\"Correct Answer \")\n",
    "    else:\n",
    "        print(\"Incorrect Answer \")\n",
    "        break\n",
    "    "
   ]
  },
  {
   "cell_type": "markdown",
   "metadata": {},
   "source": [
    "# using while loop"
   ]
  },
  {
   "cell_type": "code",
   "execution_count": null,
   "metadata": {},
   "outputs": [],
   "source": []
  },
  {
   "cell_type": "code",
   "execution_count": null,
   "metadata": {},
   "outputs": [],
   "source": []
  }
 ],
 "metadata": {
  "kernelspec": {
   "display_name": "Python 3",
   "language": "python",
   "name": "python3"
  }
 },
 "nbformat": 4,
 "nbformat_minor": 4
}
