{
 "cells": [
  {
   "cell_type": "code",
   "execution_count": 1,
   "id": "add923d6",
   "metadata": {},
   "outputs": [
    {
     "name": "stdout",
     "output_type": "stream",
     "text": [
      "Enter your age :18\n",
      "You are eligible for voting\n"
     ]
    }
   ],
   "source": [
    "age = input(\"Enter your age :\")\n",
    "if int(age) >= 18:\n",
    "    print(\"You are eligible for voting\")\n",
    "else:\n",
    "    print(\"You are not eligible for voting\")"
   ]
  },
  {
   "cell_type": "code",
   "execution_count": 2,
   "id": "6d39017f",
   "metadata": {},
   "outputs": [
    {
     "name": "stdout",
     "output_type": "stream",
     "text": [
      "Enter your Number3\n",
      "The number is odd\n"
     ]
    }
   ],
   "source": [
    "num = input(\"Enter your Number\")\n",
    "if int(num) % 2 == 0:\n",
    "    print(\"The number is even\")\n",
    "else:\n",
    "    print(\"The number is odd\")"
   ]
  },
  {
   "cell_type": "code",
   "execution_count": 3,
   "id": "21a0413f",
   "metadata": {},
   "outputs": [
    {
     "name": "stdout",
     "output_type": "stream",
     "text": [
      "Enter your Number76\n",
      "The number is not divisible by 7\n"
     ]
    }
   ],
   "source": [
    "num1 = input(\"Enter your Number\")\n",
    "if int(num1) % 7 == 0:\n",
    "    print(\"The number is divisible by 7\")\n",
    "else:\n",
    "    print(\"The number is not divisible by 7\")"
   ]
  },
  {
   "cell_type": "code",
   "execution_count": 4,
   "id": "9b71908e",
   "metadata": {},
   "outputs": [
    {
     "name": "stdout",
     "output_type": "stream",
     "text": [
      "Enter your number24\n",
      "The number is not a multiple of 5\n"
     ]
    }
   ],
   "source": [
    "num2 =input(\"Enter your number\")\n",
    "if int(num2) % 5 == 0:\n",
    "    print(\"The number is a multiple of 5\")\n",
    "else:\n",
    "    print(\"The number is not a multiple of 5\")"
   ]
  },
  {
   "cell_type": "code",
   "execution_count": 5,
   "id": "4be0bca5",
   "metadata": {},
   "outputs": [
    {
     "name": "stdout",
     "output_type": "stream",
     "text": [
      "Enter your number of units :500\n",
      "3000\n"
     ]
    }
   ],
   "source": [
    "amount = 0\n",
    "unit = int(input(\"Enter your number of units :\"))\n",
    "if unit <= 100:\n",
    "    print(\"No charge\")\n",
    "if unit >100 and unit <= 200:\n",
    "    amount = (unit - 100) * 5\n",
    "    print(amount)\n",
    "if unit > 200:\n",
    "    amount = (unit - 200) * 10\n",
    "    print(amount)\n",
    "\n",
    " \n",
    "    \n",
    "    "
   ]
  },
  {
   "cell_type": "code",
   "execution_count": 8,
   "id": "3e57a84f",
   "metadata": {},
   "outputs": [
    {
     "name": "stdout",
     "output_type": "stream",
     "text": [
      "Enter Number :15\n",
      "The number is not divisible by 3\n"
     ]
    }
   ],
   "source": [
    "num4= int(input(\"Enter Number :\"))\n",
    "lastDigit = num4 %10\n",
    "if lastDigit % 3 ==0:\n",
    "    print(\"The number is divisible by 3\")\n",
    "else:\n",
    "    print(\"The number is not divisible by 3\")\n"
   ]
  },
  {
   "cell_type": "code",
   "execution_count": 1,
   "id": "13310402",
   "metadata": {},
   "outputs": [],
   "source": [
    "cities = []"
   ]
  },
  {
   "cell_type": "code",
   "execution_count": 6,
   "id": "4ae6c391",
   "metadata": {},
   "outputs": [
    {
     "name": "stdout",
     "output_type": "stream",
     "text": [
      "Enter Name of Top Cities China\n"
     ]
    }
   ],
   "source": [
    "topCities= input(\"Enter Name of Top Cities \" )\n",
    "cities.append(topCities)"
   ]
  },
  {
   "cell_type": "code",
   "execution_count": 7,
   "id": "d6710fc8",
   "metadata": {},
   "outputs": [
    {
     "name": "stdout",
     "output_type": "stream",
     "text": [
      "['Pakistan', 'India', 'Turkey', 'China']\n"
     ]
    }
   ],
   "source": [
    "print(cities)"
   ]
  },
  {
   "cell_type": "code",
   "execution_count": 8,
   "id": "770db1ce",
   "metadata": {},
   "outputs": [],
   "source": [
    "cities.insert(1,\"America\")"
   ]
  },
  {
   "cell_type": "code",
   "execution_count": 9,
   "id": "5c82ec48",
   "metadata": {},
   "outputs": [
    {
     "name": "stdout",
     "output_type": "stream",
     "text": [
      "['Pakistan', 'America', 'India', 'Turkey', 'China']\n"
     ]
    }
   ],
   "source": [
    "print(cities)"
   ]
  },
  {
   "cell_type": "code",
   "execution_count": 10,
   "id": "0c4167f0",
   "metadata": {},
   "outputs": [],
   "source": [
    "cities.append(\"Israel\")"
   ]
  },
  {
   "cell_type": "code",
   "execution_count": 11,
   "id": "6353c554",
   "metadata": {},
   "outputs": [
    {
     "name": "stdout",
     "output_type": "stream",
     "text": [
      "['Pakistan', 'America', 'India', 'Turkey', 'China', 'Israel']\n"
     ]
    }
   ],
   "source": [
    "print(cities)"
   ]
  },
  {
   "cell_type": "code",
   "execution_count": 12,
   "id": "e1e808b9",
   "metadata": {},
   "outputs": [
    {
     "data": {
      "text/plain": [
       "['America', 'India', 'Turkey', 'China', 'Israel']"
      ]
     },
     "execution_count": 12,
     "metadata": {},
     "output_type": "execute_result"
    }
   ],
   "source": [
    "cities[1:6]"
   ]
  },
  {
   "cell_type": "code",
   "execution_count": 13,
   "id": "05eace59",
   "metadata": {},
   "outputs": [
    {
     "name": "stdout",
     "output_type": "stream",
     "text": [
      "['Pakistan', 'America', 'India', 'Turkey', 'China', 'Israel']\n"
     ]
    }
   ],
   "source": [
    "print(cities)"
   ]
  },
  {
   "cell_type": "code",
   "execution_count": 14,
   "id": "d6322f30",
   "metadata": {},
   "outputs": [],
   "source": [
    "city_sliced = cities[1:6]"
   ]
  },
  {
   "cell_type": "code",
   "execution_count": 15,
   "id": "26338526",
   "metadata": {},
   "outputs": [
    {
     "name": "stdout",
     "output_type": "stream",
     "text": [
      "['America', 'India', 'Turkey', 'China', 'Israel']\n"
     ]
    }
   ],
   "source": [
    "print(city_sliced)"
   ]
  },
  {
   "cell_type": "code",
   "execution_count": 16,
   "id": "b80ae00b",
   "metadata": {},
   "outputs": [],
   "source": [
    "del cities[1]"
   ]
  },
  {
   "cell_type": "code",
   "execution_count": 17,
   "id": "a48f2391",
   "metadata": {},
   "outputs": [
    {
     "name": "stdout",
     "output_type": "stream",
     "text": [
      "['Pakistan', 'India', 'Turkey', 'China', 'Israel']\n"
     ]
    }
   ],
   "source": [
    "print(cities)"
   ]
  },
  {
   "cell_type": "code",
   "execution_count": 20,
   "id": "1162393b",
   "metadata": {},
   "outputs": [],
   "source": [
    "remove_cities = cities.remove(\"India\")"
   ]
  },
  {
   "cell_type": "code",
   "execution_count": 21,
   "id": "473a4f51",
   "metadata": {},
   "outputs": [
    {
     "name": "stdout",
     "output_type": "stream",
     "text": [
      "None\n"
     ]
    }
   ],
   "source": [
    "print(remove_cities)"
   ]
  },
  {
   "cell_type": "code",
   "execution_count": 22,
   "id": "85f3b153",
   "metadata": {},
   "outputs": [
    {
     "name": "stdout",
     "output_type": "stream",
     "text": [
      "['Pakistan', 'Turkey', 'China']\n"
     ]
    }
   ],
   "source": [
    "print(cities)"
   ]
  },
  {
   "cell_type": "code",
   "execution_count": 24,
   "id": "7a207ce3",
   "metadata": {},
   "outputs": [],
   "source": [
    "deleted_cities = cities.pop(2)"
   ]
  },
  {
   "cell_type": "code",
   "execution_count": 25,
   "id": "2a4544e5",
   "metadata": {},
   "outputs": [
    {
     "name": "stdout",
     "output_type": "stream",
     "text": [
      "China\n"
     ]
    }
   ],
   "source": [
    "print(deleted_cities)"
   ]
  },
  {
   "cell_type": "code",
   "execution_count": 26,
   "id": "c431864d",
   "metadata": {},
   "outputs": [
    {
     "name": "stdout",
     "output_type": "stream",
     "text": [
      "['Pakistan', 'Turkey']\n"
     ]
    }
   ],
   "source": [
    "print(cities)"
   ]
  },
  {
   "cell_type": "code",
   "execution_count": null,
   "id": "e883f3e9",
   "metadata": {},
   "outputs": [],
   "source": []
  }
 ],
 "metadata": {
  "kernelspec": {
   "display_name": "Python 3",
   "language": "python",
   "name": "python3"
  },
  "language_info": {
   "codemirror_mode": {
    "name": "ipython",
    "version": 3
   },
   "file_extension": ".py",
   "mimetype": "text/x-python",
   "name": "python",
   "nbconvert_exporter": "python",
   "pygments_lexer": "ipython3",
   "version": "3.8.8"
  }
 },
 "nbformat": 4,
 "nbformat_minor": 5
}
