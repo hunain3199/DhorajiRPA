{
 "cells": [
  {
   "cell_type": "code",
   "execution_count": 41,
   "id": "c9333cc0",
   "metadata": {},
   "outputs": [],
   "source": [
    "marks = []"
   ]
  },
  {
   "cell_type": "code",
   "execution_count": 46,
   "id": "39790a59",
   "metadata": {},
   "outputs": [
    {
     "name": "stdout",
     "output_type": "stream",
     "text": [
      "Enter Marks of maths,comp,eng,urdu,phy57\n"
     ]
    }
   ],
   "source": [
    "marksAll = int(input(\"Enter Marks of maths,comp,eng,urdu,phy\" ))\n",
    "marks.append(marksAll)"
   ]
  },
  {
   "cell_type": "code",
   "execution_count": 47,
   "id": "a547450e",
   "metadata": {},
   "outputs": [
    {
     "name": "stdout",
     "output_type": "stream",
     "text": [
      "[40, 50, 45, 54, 57]\n"
     ]
    }
   ],
   "source": [
    "print(marks)"
   ]
  },
  {
   "cell_type": "code",
   "execution_count": 48,
   "id": "1a053ff8",
   "metadata": {},
   "outputs": [
    {
     "name": "stdout",
     "output_type": "stream",
     "text": [
      "40\n",
      "90\n",
      "135\n",
      "189\n",
      "246\n"
     ]
    }
   ],
   "source": [
    "summ = 0\n",
    "for i in marks:\n",
    "    summ = summ + i\n",
    "    print(summ)"
   ]
  },
  {
   "cell_type": "code",
   "execution_count": 49,
   "id": "0fd92b67",
   "metadata": {},
   "outputs": [],
   "source": [
    "totalMarks = 500\n",
    "obtainedMarks = summ"
   ]
  },
  {
   "cell_type": "code",
   "execution_count": 50,
   "id": "974db5ed",
   "metadata": {},
   "outputs": [
    {
     "name": "stdout",
     "output_type": "stream",
     "text": [
      "246\n"
     ]
    }
   ],
   "source": [
    "print(obtainedMarks)"
   ]
  },
  {
   "cell_type": "code",
   "execution_count": 51,
   "id": "c6575422",
   "metadata": {},
   "outputs": [
    {
     "name": "stdout",
     "output_type": "stream",
     "text": [
      "49.2\n"
     ]
    }
   ],
   "source": [
    "percentage = (obtainedMarks / totalMarks) * 100\n",
    "print(percentage)"
   ]
  },
  {
   "cell_type": "code",
   "execution_count": 52,
   "id": "8f3ead8d",
   "metadata": {},
   "outputs": [
    {
     "name": "stdout",
     "output_type": "stream",
     "text": [
      "You are fail\n"
     ]
    }
   ],
   "source": [
    "if percentage > 80:\n",
    "    print(\"Your Grade is A+\")\n",
    "elif percentage <= 80 and percentage > 70:\n",
    "    print(\"Your grade is B+\")\n",
    "elif percentage <=70 and percentage > 60:\n",
    "    print(\"Yourgrade is C+\")\n",
    "else:\n",
    "    print(\"You are fail\")"
   ]
  },
  {
   "cell_type": "code",
   "execution_count": 53,
   "id": "05b31243",
   "metadata": {},
   "outputs": [
    {
     "name": "stdout",
     "output_type": "stream",
     "text": [
      "[40, 50, 45, 54, 57]\n"
     ]
    }
   ],
   "source": [
    "print(marks)"
   ]
  },
  {
   "cell_type": "code",
   "execution_count": null,
   "id": "ab9807cc",
   "metadata": {},
   "outputs": [],
   "source": []
  }
 ],
 "metadata": {
  "kernelspec": {
   "display_name": "Python 3",
   "language": "python",
   "name": "python3"
  },
  "language_info": {
   "codemirror_mode": {
    "name": "ipython",
    "version": 3
   },
   "file_extension": ".py",
   "mimetype": "text/x-python",
   "name": "python",
   "nbconvert_exporter": "python",
   "pygments_lexer": "ipython3",
   "version": "3.8.8"
  }
 },
 "nbformat": 4,
 "nbformat_minor": 5
}
