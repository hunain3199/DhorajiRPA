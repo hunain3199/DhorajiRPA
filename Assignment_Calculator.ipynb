{
 "cells": [
  {
   "cell_type": "code",
   "execution_count": 1,
   "id": "c38edcd2",
   "metadata": {},
   "outputs": [],
   "source": [
    "def calc(num1,num2,operator):\n",
    "    if operator == \"+\":\n",
    "        totalAdd = num1 + num2\n",
    "        print(totalAdd)\n",
    "    elif operator == \"-\":\n",
    "        totalSub = num1 - num2\n",
    "        print(totalSub)\n",
    "    elif operator == \"*\":\n",
    "        totalMul = num1 * num2\n",
    "        print(totalMul)\n",
    "    elif operator == \"/\":\n",
    "        totalDiv = num1 / num2\n",
    "        print(totalDiv)\n",
    "    else:\n",
    "        print(\"The operator has not defined properly \")"
   ]
  },
  {
   "cell_type": "code",
   "execution_count": 10,
   "id": "5b17971d",
   "metadata": {},
   "outputs": [
    {
     "name": "stdout",
     "output_type": "stream",
     "text": [
      "8\n"
     ]
    }
   ],
   "source": [
    "calc(2,6,\"+\")\n"
   ]
  },
  {
   "cell_type": "code",
   "execution_count": 11,
   "id": "c0a6d504",
   "metadata": {},
   "outputs": [
    {
     "name": "stdout",
     "output_type": "stream",
     "text": [
      "4\n"
     ]
    }
   ],
   "source": [
    "calc(6,2,\"-\")"
   ]
  },
  {
   "cell_type": "code",
   "execution_count": 12,
   "id": "255956c1",
   "metadata": {},
   "outputs": [
    {
     "name": "stdout",
     "output_type": "stream",
     "text": [
      "12\n"
     ]
    }
   ],
   "source": [
    "calc(6,2,\"*\")"
   ]
  },
  {
   "cell_type": "code",
   "execution_count": 13,
   "id": "807041c2",
   "metadata": {},
   "outputs": [
    {
     "name": "stdout",
     "output_type": "stream",
     "text": [
      "3.0\n"
     ]
    }
   ],
   "source": [
    "calc(6,2,\"/\")"
   ]
  },
  {
   "cell_type": "code",
   "execution_count": 14,
   "id": "9a0d4974",
   "metadata": {},
   "outputs": [
    {
     "name": "stdout",
     "output_type": "stream",
     "text": [
      "The operator has not defined properly \n"
     ]
    }
   ],
   "source": [
    "calc(6,3,\"%\")"
   ]
  },
  {
   "cell_type": "markdown",
   "id": "2bff798d",
   "metadata": {},
   "source": [
    "# Method 1"
   ]
  },
  {
   "cell_type": "code",
   "execution_count": 36,
   "id": "f66f0baf",
   "metadata": {},
   "outputs": [],
   "source": [
    "def add_number(num1,num2):\n",
    "    total_Add = num1 + num2\n",
    "    print(total_Add)"
   ]
  },
  {
   "cell_type": "code",
   "execution_count": 37,
   "id": "a9888b68",
   "metadata": {},
   "outputs": [],
   "source": [
    "def sub_number(num1,num2):\n",
    "    total_Sub = num1 - num2\n",
    "    print(total_Sub)\n",
    "    "
   ]
  },
  {
   "cell_type": "code",
   "execution_count": 38,
   "id": "f97397af",
   "metadata": {},
   "outputs": [],
   "source": [
    "def mul_number(num1,num2):\n",
    "    total_Mul = num1 * num2\n",
    "    print(total_Mul)"
   ]
  },
  {
   "cell_type": "code",
   "execution_count": 39,
   "id": "ef6ac9c2",
   "metadata": {},
   "outputs": [],
   "source": [
    "def div_number(num1,num2):\n",
    "    total_Div = num1 / num2\n",
    "    print(total_Div)"
   ]
  },
  {
   "cell_type": "code",
   "execution_count": 40,
   "id": "ef67f844",
   "metadata": {},
   "outputs": [],
   "source": [
    "def calca(num1,num2,operator):\n",
    "    if operator == \"+\":\n",
    "        add_number(num1,num2)\n",
    "    elif operator == \"-\":\n",
    "        sub_number(num1,num2)\n",
    "    elif operator == \"*\":\n",
    "        mul_number(num1,num2)\n",
    "    elif operator == \"/\":\n",
    "        div_number(num1,num2)\n",
    "    else:\n",
    "        print(\"The operator has not defined properly \")\n",
    "        \n",
    "        \n",
    "    \n",
    "        "
   ]
  },
  {
   "cell_type": "code",
   "execution_count": 41,
   "id": "653ac002",
   "metadata": {},
   "outputs": [
    {
     "name": "stdout",
     "output_type": "stream",
     "text": [
      "9\n"
     ]
    }
   ],
   "source": [
    "calca(4,5,\"+\")"
   ]
  },
  {
   "cell_type": "code",
   "execution_count": 42,
   "id": "fc1777f4",
   "metadata": {},
   "outputs": [
    {
     "name": "stdout",
     "output_type": "stream",
     "text": [
      "1\n"
     ]
    }
   ],
   "source": [
    "calca(5,4,\"-\")"
   ]
  },
  {
   "cell_type": "code",
   "execution_count": 43,
   "id": "87598524",
   "metadata": {},
   "outputs": [
    {
     "name": "stdout",
     "output_type": "stream",
     "text": [
      "20\n"
     ]
    }
   ],
   "source": [
    "calca(5,4,\"*\")"
   ]
  },
  {
   "cell_type": "code",
   "execution_count": 44,
   "id": "2f82dc86",
   "metadata": {},
   "outputs": [
    {
     "name": "stdout",
     "output_type": "stream",
     "text": [
      "1.25\n"
     ]
    }
   ],
   "source": [
    "calca(5,4,\"/\")"
   ]
  },
  {
   "cell_type": "code",
   "execution_count": 45,
   "id": "eee63e0d",
   "metadata": {},
   "outputs": [
    {
     "name": "stdout",
     "output_type": "stream",
     "text": [
      "The operator has not defined properly \n"
     ]
    }
   ],
   "source": [
    "calca(5,4,\"%\")"
   ]
  },
  {
   "cell_type": "markdown",
   "id": "a3a492f7",
   "metadata": {},
   "source": [
    "# Method 2"
   ]
  },
  {
   "cell_type": "markdown",
   "id": "1ffb1534",
   "metadata": {},
   "source": [
    "# This is calculator made by 2 methods"
   ]
  }
 ],
 "metadata": {
  "kernelspec": {
   "display_name": "Python 3",
   "language": "python",
   "name": "python3"
  },
  "language_info": {
   "codemirror_mode": {
    "name": "ipython",
    "version": 3
   },
   "file_extension": ".py",
   "mimetype": "text/x-python",
   "name": "python",
   "nbconvert_exporter": "python",
   "pygments_lexer": "ipython3",
   "version": "3.8.8"
  }
 },
 "nbformat": 4,
 "nbformat_minor": 5
}
