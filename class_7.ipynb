{
 "cells": [
  {
   "cell_type": "code",
   "execution_count": 28,
   "metadata": {},
   "outputs": [],
   "source": [
    "database=[]"
   ]
  },
  {
   "cell_type": "code",
   "execution_count": 29,
   "metadata": {},
   "outputs": [],
   "source": [
    "summ = 0"
   ]
  },
  {
   "cell_type": "code",
   "execution_count": 30,
   "metadata": {},
   "outputs": [
    {
     "name": "stdout",
     "output_type": "stream",
     "text": [
      "Enter your first name Hunain\n",
      "Enter your last name Irfan\n",
      "Enter your age 20\n",
      "Enter your user id 3201\n",
      "Enter your education Alevels\n",
      "Enter your first name Hamza\n",
      "Enter your last name Irfan\n",
      "Enter your age 16\n",
      "Enter your user id 3202\n",
      "Enter your education Olevels\n",
      "Enter your first name Hassan \n",
      "Enter your last name Imran\n",
      "Enter your age 25\n",
      "Enter your user id 3203\n",
      "Enter your education University\n",
      "Enter your first name Ali\n",
      "Enter your last name Rafiq\n",
      "Enter your age 30\n",
      "Enter your user id 3203\n",
      "Enter your education Intermediate\n",
      "Enter your first name Furqan\n",
      "Enter your last name Fazil\n",
      "Enter your age 40\n",
      "Enter your user id 3205\n",
      "Enter your education Matric\n",
      "Enter your first name Fatima\n",
      "Enter your last name Rizwan\n",
      "Enter your age 16\n",
      "Enter your user id 3206\n",
      "Enter your education Olevels\n",
      "Enter your first name Zulekha\n",
      "Enter your last name Irfan\n",
      "Enter your age 18\n",
      "Enter your user id 3207\n",
      "Enter your education Alevels\n",
      "Enter your first name Amin\n",
      "Enter your last name Majeed\n",
      "Enter your age 35\n",
      "Enter your user id 3208\n",
      "Enter your education Matric\n",
      "Enter your first name Rahim\n",
      "Enter your last name Javed\n",
      "Enter your age 24\n",
      "Enter your user id 3209\n",
      "Enter your education University\n",
      "Enter your first name Younus\n",
      "Enter your last name Javed\n",
      "Enter your age 32\n",
      "Enter your user id 3210\n",
      "Enter your education University\n"
     ]
    }
   ],
   "source": [
    "for dictionary in range(10):\n",
    "    dic = {\n",
    "        \"first name\" : input(\"Enter your first name \"),\n",
    "        \"last name\"  : input(\"Enter your last name \"),\n",
    "        \"age\"        : int(input(\"Enter your age \")),\n",
    "        \"uid\"        : int(input(\"Enter your user id \")),\n",
    "        \"education\"  : input(\"Enter your education \"),\n",
    "    }\n",
    "    summ = summ + dictionary\n",
    "    database.append(dic)\n",
    "    "
   ]
  },
  {
   "cell_type": "code",
   "execution_count": 31,
   "metadata": {},
   "outputs": [
    {
     "data": {
      "text/plain": [
       "[{'first name': 'Hunain',\n",
       "  'last name': 'Irfan',\n",
       "  'age': 20,\n",
       "  'uid': 3201,\n",
       "  'education': 'Alevels'},\n",
       " {'first name': 'Hamza',\n",
       "  'last name': 'Irfan',\n",
       "  'age': 16,\n",
       "  'uid': 3202,\n",
       "  'education': 'Olevels'},\n",
       " {'first name': 'Hassan ',\n",
       "  'last name': 'Imran',\n",
       "  'age': 25,\n",
       "  'uid': 3203,\n",
       "  'education': 'University'},\n",
       " {'first name': 'Ali',\n",
       "  'last name': 'Rafiq',\n",
       "  'age': 30,\n",
       "  'uid': 3203,\n",
       "  'education': 'Intermediate'},\n",
       " {'first name': 'Furqan',\n",
       "  'last name': 'Fazil',\n",
       "  'age': 40,\n",
       "  'uid': 3205,\n",
       "  'education': 'Matric'},\n",
       " {'first name': 'Fatima',\n",
       "  'last name': 'Rizwan',\n",
       "  'age': 16,\n",
       "  'uid': 3206,\n",
       "  'education': 'Olevels'},\n",
       " {'first name': 'Zulekha',\n",
       "  'last name': 'Irfan',\n",
       "  'age': 18,\n",
       "  'uid': 3207,\n",
       "  'education': 'Alevels'},\n",
       " {'first name': 'Amin',\n",
       "  'last name': 'Majeed',\n",
       "  'age': 35,\n",
       "  'uid': 3208,\n",
       "  'education': 'Matric'},\n",
       " {'first name': 'Rahim',\n",
       "  'last name': 'Javed',\n",
       "  'age': 24,\n",
       "  'uid': 3209,\n",
       "  'education': 'University'},\n",
       " {'first name': 'Younus',\n",
       "  'last name': 'Javed',\n",
       "  'age': 32,\n",
       "  'uid': 3210,\n",
       "  'education': 'University'}]"
      ]
     },
     "execution_count": 31,
     "metadata": {},
     "output_type": "execute_result"
    }
   ],
   "source": [
    "database"
   ]
  },
  {
   "cell_type": "code",
   "execution_count": 32,
   "metadata": {},
   "outputs": [],
   "source": [
    "deleted_element = database.pop(3)"
   ]
  },
  {
   "cell_type": "code",
   "execution_count": 33,
   "metadata": {},
   "outputs": [
    {
     "name": "stdout",
     "output_type": "stream",
     "text": [
      "{'first name': 'Ali', 'last name': 'Rafiq', 'age': 30, 'uid': 3203, 'education': 'Intermediate'}\n"
     ]
    }
   ],
   "source": [
    "print(deleted_element)"
   ]
  },
  {
   "cell_type": "code",
   "execution_count": 34,
   "metadata": {},
   "outputs": [],
   "source": [
    "student ={\n",
    "    \"first name\": \"Zain\",\n",
    "    \"last name\" : \"Noman\",\n",
    "    \"age\"      : 16,\n",
    "    \"uid\"      : 3204,\n",
    "    \"education\": \"Matric\",\n",
    "}\n",
    "\n",
    "    \n"
   ]
  },
  {
   "cell_type": "code",
   "execution_count": 35,
   "metadata": {},
   "outputs": [
    {
     "data": {
      "text/plain": [
       "{'first name': 'Zain',\n",
       " 'last name': 'Noman',\n",
       " 'age': 16,\n",
       " 'uid': 3204,\n",
       " 'education': 'Matric'}"
      ]
     },
     "execution_count": 35,
     "metadata": {},
     "output_type": "execute_result"
    }
   ],
   "source": [
    "student"
   ]
  },
  {
   "cell_type": "code",
   "execution_count": 36,
   "metadata": {},
   "outputs": [],
   "source": [
    "database.insert(3,student)"
   ]
  },
  {
   "cell_type": "code",
   "execution_count": 37,
   "metadata": {},
   "outputs": [
    {
     "data": {
      "text/plain": [
       "[{'first name': 'Hunain',\n",
       "  'last name': 'Irfan',\n",
       "  'age': 20,\n",
       "  'uid': 3201,\n",
       "  'education': 'Alevels'},\n",
       " {'first name': 'Hamza',\n",
       "  'last name': 'Irfan',\n",
       "  'age': 16,\n",
       "  'uid': 3202,\n",
       "  'education': 'Olevels'},\n",
       " {'first name': 'Hassan ',\n",
       "  'last name': 'Imran',\n",
       "  'age': 25,\n",
       "  'uid': 3203,\n",
       "  'education': 'University'},\n",
       " {'first name': 'Zain',\n",
       "  'last name': 'Noman',\n",
       "  'age': 16,\n",
       "  'uid': 3204,\n",
       "  'education': 'Matric'},\n",
       " {'first name': 'Furqan',\n",
       "  'last name': 'Fazil',\n",
       "  'age': 40,\n",
       "  'uid': 3205,\n",
       "  'education': 'Matric'},\n",
       " {'first name': 'Fatima',\n",
       "  'last name': 'Rizwan',\n",
       "  'age': 16,\n",
       "  'uid': 3206,\n",
       "  'education': 'Olevels'},\n",
       " {'first name': 'Zulekha',\n",
       "  'last name': 'Irfan',\n",
       "  'age': 18,\n",
       "  'uid': 3207,\n",
       "  'education': 'Alevels'},\n",
       " {'first name': 'Amin',\n",
       "  'last name': 'Majeed',\n",
       "  'age': 35,\n",
       "  'uid': 3208,\n",
       "  'education': 'Matric'},\n",
       " {'first name': 'Rahim',\n",
       "  'last name': 'Javed',\n",
       "  'age': 24,\n",
       "  'uid': 3209,\n",
       "  'education': 'University'},\n",
       " {'first name': 'Younus',\n",
       "  'last name': 'Javed',\n",
       "  'age': 32,\n",
       "  'uid': 3210,\n",
       "  'education': 'University'}]"
      ]
     },
     "execution_count": 37,
     "metadata": {},
     "output_type": "execute_result"
    }
   ],
   "source": [
    "database"
   ]
  },
  {
   "cell_type": "code",
   "execution_count": 38,
   "metadata": {},
   "outputs": [
    {
     "name": "stdout",
     "output_type": "stream",
     "text": [
      "{'first name': 'Hamza', 'last name': 'Irfan', 'age': 16, 'uid': 3202, 'education': 'Olevels'}\n",
      "{'first name': 'Zain', 'last name': 'Noman', 'age': 16, 'uid': 3204, 'education': 'Matric'}\n",
      "{'first name': 'Fatima', 'last name': 'Rizwan', 'age': 16, 'uid': 3206, 'education': 'Olevels'}\n"
     ]
    }
   ],
   "source": [
    "for dictionaryy in database:\n",
    "    if dictionaryy[\"age\"] < 18:\n",
    "        print(dictionaryy)"
   ]
  },
  {
   "cell_type": "code",
   "execution_count": 39,
   "metadata": {},
   "outputs": [
    {
     "name": "stdout",
     "output_type": "stream",
     "text": [
      "{'first name': 'Hunain', 'last name': 'Irfan', 'age': 20, 'uid': 3201, 'education': 'Alevels'}\n",
      "{'first name': 'Zulekha', 'last name': 'Irfan', 'age': 18, 'uid': 3207, 'education': 'Alevels'}\n"
     ]
    }
   ],
   "source": [
    "for dictionaryy in database:\n",
    "    if dictionaryy[\"education\"] == \"Alevels\":\n",
    "        print(dictionaryy)"
   ]
  },
  {
   "cell_type": "code",
   "execution_count": 46,
   "metadata": {},
   "outputs": [
    {
     "data": {
      "text/plain": [
       "[{'first name': 'Hunain',\n",
       "  'last name': 'Irfan',\n",
       "  'age': 20,\n",
       "  'uid': 3201,\n",
       "  'education': 'Alevels'},\n",
       " {'first name': 'Hamza',\n",
       "  'last name': 'Irfan',\n",
       "  'age': 16,\n",
       "  'uid': 3202,\n",
       "  'education': 'Olevels'},\n",
       " {'first name': 'Hassan ',\n",
       "  'last name': 'Imran',\n",
       "  'age': 25,\n",
       "  'uid': 3203,\n",
       "  'education': 'University'},\n",
       " {'first name': 'Zain',\n",
       "  'last name': 'Noman',\n",
       "  'age': 16,\n",
       "  'uid': 3204,\n",
       "  'education': 'Matric'},\n",
       " {'first name': 'Furqan',\n",
       "  'last name': 'Fazil',\n",
       "  'age': 40,\n",
       "  'uid': 3205,\n",
       "  'education': 'Matric'},\n",
       " {'first name': 'Fatima',\n",
       "  'last name': 'Rizwan',\n",
       "  'age': 16,\n",
       "  'uid': 3206,\n",
       "  'education': 'Olevels'},\n",
       " {'first name': 'Zulekha',\n",
       "  'last name': 'Irfan',\n",
       "  'age': 18,\n",
       "  'uid': 3207,\n",
       "  'education': 'Alevels'},\n",
       " {'first name': 'Amin',\n",
       "  'last name': 'Majeed',\n",
       "  'age': 35,\n",
       "  'uid': 3208,\n",
       "  'education': 'Matric'},\n",
       " {'first name': 'Rahim',\n",
       "  'last name': 'Javed',\n",
       "  'age': 24,\n",
       "  'uid': 3209,\n",
       "  'education': 'University'},\n",
       " {'first name': 'Younus',\n",
       "  'last name': 'Javed',\n",
       "  'age': 32,\n",
       "  'uid': 3210,\n",
       "  'education': 'University'}]"
      ]
     },
     "execution_count": 46,
     "metadata": {},
     "output_type": "execute_result"
    }
   ],
   "source": [
    "database"
   ]
  },
  {
   "cell_type": "code",
   "execution_count": 56,
   "metadata": {},
   "outputs": [
    {
     "name": "stdout",
     "output_type": "stream",
     "text": [
      "{'first name': 'Hamza', 'last name': 'Irfan', 'age': 16, 'uid': 3202, 'education': 'Olevels'}\n",
      "{'first name': 'Hassan ', 'last name': 'Imran', 'age': 25, 'uid': 3203, 'education': 'University'}\n",
      "{'first name': 'Zain', 'last name': 'Noman', 'age': 16, 'uid': 3204, 'education': 'Matric'}\n",
      "{'first name': 'Furqan', 'last name': 'Fazil', 'age': 40, 'uid': 3205, 'education': 'Matric'}\n",
      "{'first name': 'Fatima', 'last name': 'Rizwan', 'age': 16, 'uid': 3206, 'education': 'Olevels'}\n",
      "{'first name': 'Amin', 'last name': 'Majeed', 'age': 35, 'uid': 3208, 'education': 'Matric'}\n",
      "{'first name': 'Rahim', 'last name': 'Javed', 'age': 24, 'uid': 3209, 'education': 'University'}\n",
      "{'first name': 'Younus', 'last name': 'Javed', 'age': 32, 'uid': 3210, 'education': 'University'}\n"
     ]
    }
   ],
   "source": [
    "for dictionaryy in database:\n",
    "    if dictionaryy[\"education\"] != \"Alevels\":\n",
    "        print(dictionaryy)"
   ]
  },
  {
   "cell_type": "code",
   "execution_count": 81,
   "metadata": {},
   "outputs": [
    {
     "name": "stdout",
     "output_type": "stream",
     "text": [
      "Hunain\n",
      "Irfan\n",
      "20\n",
      "3201\n",
      "Alevels\n",
      "Hamza\n",
      "Irfan\n",
      "16\n",
      "3202\n",
      "Olevels\n",
      "Hassan \n",
      "Imran\n",
      "25\n",
      "3203\n",
      "University\n",
      "Zain\n",
      "Noman\n",
      "16\n",
      "3204\n",
      "Matric\n",
      "Furqan\n",
      "Fazil\n",
      "40\n",
      "3205\n",
      "Matric\n",
      "Fatima\n",
      "Rizwan\n",
      "16\n",
      "3206\n",
      "Olevels\n",
      "Zulekha\n",
      "Irfan\n",
      "18\n",
      "3207\n",
      "Alevels\n",
      "Amin\n",
      "Majeed\n",
      "35\n",
      "3208\n",
      "Matric\n",
      "Rahim\n",
      "Javed\n",
      "24\n",
      "3209\n",
      "University\n",
      "Younus\n",
      "Javed\n",
      "32\n",
      "3210\n",
      "University\n"
     ]
    }
   ],
   "source": [
    "for i in database:\n",
    "    for j in i.values():\n",
    "        print(j)"
   ]
  },
  {
   "cell_type": "code",
   "execution_count": 69,
   "metadata": {},
   "outputs": [
    {
     "name": "stdout",
     "output_type": "stream",
     "text": [
      "first name\n",
      "last name\n",
      "age\n",
      "uid\n",
      "education\n",
      "first name\n",
      "last name\n",
      "age\n",
      "uid\n",
      "education\n",
      "first name\n",
      "last name\n",
      "age\n",
      "uid\n",
      "education\n",
      "first name\n",
      "last name\n",
      "age\n",
      "uid\n",
      "education\n",
      "first name\n",
      "last name\n",
      "age\n",
      "uid\n",
      "education\n",
      "first name\n",
      "last name\n",
      "age\n",
      "uid\n",
      "education\n",
      "first name\n",
      "last name\n",
      "age\n",
      "uid\n",
      "education\n",
      "first name\n",
      "last name\n",
      "age\n",
      "uid\n",
      "education\n",
      "first name\n",
      "last name\n",
      "age\n",
      "uid\n",
      "education\n",
      "first name\n",
      "last name\n",
      "age\n",
      "uid\n",
      "education\n"
     ]
    }
   ],
   "source": [
    "for i in database:\n",
    "    for j in i.keys():\n",
    "        print(j)"
   ]
  },
  {
   "cell_type": "code",
   "execution_count": 82,
   "metadata": {},
   "outputs": [
    {
     "name": "stdout",
     "output_type": "stream",
     "text": [
      "('first name', 'Hunain')\n",
      "('last name', 'Irfan')\n",
      "('age', 20)\n",
      "('uid', 3201)\n",
      "('education', 'Alevels')\n",
      "('first name', 'Hamza')\n",
      "('last name', 'Irfan')\n",
      "('age', 16)\n",
      "('uid', 3202)\n",
      "('education', 'Olevels')\n",
      "('first name', 'Hassan ')\n",
      "('last name', 'Imran')\n",
      "('age', 25)\n",
      "('uid', 3203)\n",
      "('education', 'University')\n",
      "('first name', 'Zain')\n",
      "('last name', 'Noman')\n",
      "('age', 16)\n",
      "('uid', 3204)\n",
      "('education', 'Matric')\n",
      "('first name', 'Furqan')\n",
      "('last name', 'Fazil')\n",
      "('age', 40)\n",
      "('uid', 3205)\n",
      "('education', 'Matric')\n",
      "('first name', 'Fatima')\n",
      "('last name', 'Rizwan')\n",
      "('age', 16)\n",
      "('uid', 3206)\n",
      "('education', 'Olevels')\n",
      "('first name', 'Zulekha')\n",
      "('last name', 'Irfan')\n",
      "('age', 18)\n",
      "('uid', 3207)\n",
      "('education', 'Alevels')\n",
      "('first name', 'Amin')\n",
      "('last name', 'Majeed')\n",
      "('age', 35)\n",
      "('uid', 3208)\n",
      "('education', 'Matric')\n",
      "('first name', 'Rahim')\n",
      "('last name', 'Javed')\n",
      "('age', 24)\n",
      "('uid', 3209)\n",
      "('education', 'University')\n",
      "('first name', 'Younus')\n",
      "('last name', 'Javed')\n",
      "('age', 32)\n",
      "('uid', 3210)\n",
      "('education', 'University')\n"
     ]
    }
   ],
   "source": [
    "for i in database:\n",
    "    for j in i.items():\n",
    "        print(j)"
   ]
  },
  {
   "cell_type": "code",
   "execution_count": 83,
   "metadata": {},
   "outputs": [
    {
     "name": "stdout",
     "output_type": "stream",
     "text": [
      "first name = Hunain\n",
      "last name = Irfan\n",
      "age = 20\n",
      "uid = 3201\n",
      "education = Alevels\n",
      "first name = Hamza\n",
      "last name = Irfan\n",
      "age = 16\n",
      "uid = 3202\n",
      "education = Olevels\n",
      "first name = Hassan \n",
      "last name = Imran\n",
      "age = 25\n",
      "uid = 3203\n",
      "education = University\n",
      "first name = Zain\n",
      "last name = Noman\n",
      "age = 16\n",
      "uid = 3204\n",
      "education = Matric\n",
      "first name = Furqan\n",
      "last name = Fazil\n",
      "age = 40\n",
      "uid = 3205\n",
      "education = Matric\n",
      "first name = Fatima\n",
      "last name = Rizwan\n",
      "age = 16\n",
      "uid = 3206\n",
      "education = Olevels\n",
      "first name = Zulekha\n",
      "last name = Irfan\n",
      "age = 18\n",
      "uid = 3207\n",
      "education = Alevels\n",
      "first name = Amin\n",
      "last name = Majeed\n",
      "age = 35\n",
      "uid = 3208\n",
      "education = Matric\n",
      "first name = Rahim\n",
      "last name = Javed\n",
      "age = 24\n",
      "uid = 3209\n",
      "education = University\n",
      "first name = Younus\n",
      "last name = Javed\n",
      "age = 32\n",
      "uid = 3210\n",
      "education = University\n"
     ]
    }
   ],
   "source": [
    "for i in database:\n",
    "    for j,l in i.items():\n",
    "        print(str(j)+\" = \" + str(l))"
   ]
  }
 ],
 "metadata": {
  "kernelspec": {
   "display_name": "Python 3",
   "language": "python",
   "name": "python3"
  },
  "language_info": {
   "codemirror_mode": {
    "name": "ipython",
    "version": 3
   },
   "file_extension": ".py",
   "mimetype": "text/x-python",
   "name": "python",
   "nbconvert_exporter": "python",
   "pygments_lexer": "ipython3",
   "version": "3.8.5"
  }
 },
 "nbformat": 4,
 "nbformat_minor": 4
}
