{
 "cells": [
  {
   "cell_type": "code",
   "execution_count": 4,
   "metadata": {},
   "outputs": [],
   "source": [
    "dataList = {\n",
    "    \"first name\" : \"Hunain\",\n",
    "    \"last name\"  : \"Irfan\",\n",
    "    \"age\": 20,\n",
    "}"
   ]
  },
  {
   "cell_type": "code",
   "execution_count": 5,
   "metadata": {},
   "outputs": [
    {
     "name": "stdout",
     "output_type": "stream",
     "text": [
      "{'first name': 'Hunain', 'last name': 'Irfan', 'age': 20}\n"
     ]
    }
   ],
   "source": [
    "print(dataList)\n"
   ]
  },
  {
   "cell_type": "code",
   "execution_count": 10,
   "metadata": {},
   "outputs": [],
   "source": [
    "dataList[\"designation\"] = \"Tutor\""
   ]
  },
  {
   "cell_type": "code",
   "execution_count": 11,
   "metadata": {},
   "outputs": [
    {
     "name": "stdout",
     "output_type": "stream",
     "text": [
      "{'first name': 'Hunain', 'last name': 'Irfan', 'age': 20, 'designation': 'Tutor'}\n"
     ]
    }
   ],
   "source": [
    "print(dataList)"
   ]
  },
  {
   "cell_type": "code",
   "execution_count": 12,
   "metadata": {},
   "outputs": [],
   "source": [
    "del dataList[\"designation\"]"
   ]
  },
  {
   "cell_type": "code",
   "execution_count": 13,
   "metadata": {},
   "outputs": [
    {
     "name": "stdout",
     "output_type": "stream",
     "text": [
      "{'first name': 'Hunain', 'last name': 'Irfan', 'age': 20}\n"
     ]
    }
   ],
   "source": [
    "print(dataList)"
   ]
  },
  {
   "cell_type": "code",
   "execution_count": 14,
   "metadata": {},
   "outputs": [],
   "source": [
    "#dictionaries"
   ]
  },
  {
   "cell_type": "code",
   "execution_count": 16,
   "metadata": {},
   "outputs": [],
   "source": [
    "student = {\n",
    "    \"first name\" : \"Hunain\",\n",
    "    \"last name\" : \"Irfan\",\n",
    "    \"age\"    :         20,\n",
    "    \"designation\" : \"Business Owner\",\n",
    "    \"institute\" : \"Dhoraji\",\n",
    "}"
   ]
  },
  {
   "cell_type": "code",
   "execution_count": 17,
   "metadata": {},
   "outputs": [
    {
     "data": {
      "text/plain": [
       "'Hunain'"
      ]
     },
     "execution_count": 17,
     "metadata": {},
     "output_type": "execute_result"
    }
   ],
   "source": [
    "student[\"first name\"]"
   ]
  },
  {
   "cell_type": "code",
   "execution_count": 18,
   "metadata": {},
   "outputs": [
    {
     "data": {
      "text/plain": [
       "'Irfan'"
      ]
     },
     "execution_count": 18,
     "metadata": {},
     "output_type": "execute_result"
    }
   ],
   "source": [
    "student[\"last name\"]"
   ]
  },
  {
   "cell_type": "code",
   "execution_count": 19,
   "metadata": {},
   "outputs": [
    {
     "data": {
      "text/plain": [
       "20"
      ]
     },
     "execution_count": 19,
     "metadata": {},
     "output_type": "execute_result"
    }
   ],
   "source": [
    "student[\"age\"]"
   ]
  },
  {
   "cell_type": "code",
   "execution_count": 20,
   "metadata": {},
   "outputs": [
    {
     "data": {
      "text/plain": [
       "'Business Owner'"
      ]
     },
     "execution_count": 20,
     "metadata": {},
     "output_type": "execute_result"
    }
   ],
   "source": [
    "student[\"designation\"]"
   ]
  },
  {
   "cell_type": "code",
   "execution_count": 21,
   "metadata": {},
   "outputs": [
    {
     "data": {
      "text/plain": [
       "'Dhoraji'"
      ]
     },
     "execution_count": 21,
     "metadata": {},
     "output_type": "execute_result"
    }
   ],
   "source": [
    "student[\"institute\"]"
   ]
  },
  {
   "cell_type": "code",
   "execution_count": 29,
   "metadata": {},
   "outputs": [],
   "source": [
    "#looping to get keys and values"
   ]
  },
  {
   "cell_type": "code",
   "execution_count": 30,
   "metadata": {},
   "outputs": [
    {
     "name": "stdout",
     "output_type": "stream",
     "text": [
      "Hunain\n",
      "Irfan\n",
      "20\n",
      "Business Owner\n",
      "Dhoraji\n"
     ]
    }
   ],
   "source": [
    "for i in student.values():\n",
    "    print(i)"
   ]
  },
  {
   "cell_type": "code",
   "execution_count": 31,
   "metadata": {},
   "outputs": [
    {
     "name": "stdout",
     "output_type": "stream",
     "text": [
      "first name\n",
      "last name\n",
      "age\n",
      "designation\n",
      "institute\n"
     ]
    }
   ],
   "source": [
    "for j in student.keys():\n",
    "    print(j)"
   ]
  },
  {
   "cell_type": "code",
   "execution_count": 32,
   "metadata": {},
   "outputs": [],
   "source": [
    "#looping through items"
   ]
  },
  {
   "cell_type": "code",
   "execution_count": 33,
   "metadata": {},
   "outputs": [
    {
     "data": {
      "text/plain": [
       "dict_items([('first name', 'Hunain'), ('last name', 'Irfan'), ('age', 20), ('designation', 'Business Owner'), ('institute', 'Dhoraji')])"
      ]
     },
     "execution_count": 33,
     "metadata": {},
     "output_type": "execute_result"
    }
   ],
   "source": [
    "student.items()"
   ]
  },
  {
   "cell_type": "code",
   "execution_count": 40,
   "metadata": {},
   "outputs": [
    {
     "name": "stdout",
     "output_type": "stream",
     "text": [
      "first name Hunain\n",
      "last name Irfan\n",
      "age 20\n",
      "designation Business Owner\n",
      "institute Dhoraji\n"
     ]
    }
   ],
   "source": [
    "for key,value in student.items():\n",
    "    print(key,value)"
   ]
  },
  {
   "cell_type": "code",
   "execution_count": 41,
   "metadata": {},
   "outputs": [
    {
     "name": "stdout",
     "output_type": "stream",
     "text": [
      "first name : Hunain\n",
      "last name : Irfan\n",
      "age : 20\n",
      "designation : Business Owner\n",
      "institute : Dhoraji\n"
     ]
    }
   ],
   "source": [
    "for key,value in student.items():\n",
    "    print(str(key) +  \" : \" + str(value))"
   ]
  },
  {
   "cell_type": "code",
   "execution_count": 42,
   "metadata": {},
   "outputs": [],
   "source": [
    "#list of dictionaries"
   ]
  },
  {
   "cell_type": "code",
   "execution_count": 80,
   "metadata": {},
   "outputs": [],
   "source": [
    "database = [\n",
    "    {\n",
    "        \"first name\" : \"Hamza\",\n",
    "        \"last name\" : \"Irfan\",\n",
    "        \"age\"     : 17,\n",
    "        \"designation\": \"Job\",\n",
    "        \"uid\" : 1,\n",
    "    },\n",
    "    \n",
    "    {\n",
    "        \"first name\" : \"Irfan\",\n",
    "        \"last name\" : \"Iqbal\",\n",
    "        \"age\"     : 40,\n",
    "        \"designation\": \"Business\",\n",
    "        \"uid\" : 2,\n",
    "    },\n",
    "    \n",
    "    {\n",
    "        \"first name\" : \"Rahim\",\n",
    "        \"last name\" : \"Javed\",\n",
    "        \"age\"     : 24,\n",
    "        \"designation\": \"Job\",\n",
    "        \"uid\" : 3,\n",
    "    },\n",
    "    \n",
    "    {\n",
    "        \"first name\" : \"Hasnain\",\n",
    "        \"last name\" : \"Hanif\",\n",
    "        \"age\"     : 23,\n",
    "        \"designation\": \"Job\",\n",
    "        \"uid\" : 4,\n",
    "    },\n",
    "    \n",
    "    {\n",
    "        \"first name\" : \"Younus\",\n",
    "        \"last name\" : \"Javed\",\n",
    "        \"age\"     : 20,\n",
    "        \"designation\": \"Job\",\n",
    "        \"uid\" : 5,\n",
    "    }\n",
    "]"
   ]
  },
  {
   "cell_type": "code",
   "execution_count": 81,
   "metadata": {},
   "outputs": [
    {
     "data": {
      "text/plain": [
       "[{'first name': 'Hamza',\n",
       "  'last name': 'Irfan',\n",
       "  'age': 17,\n",
       "  'designation': 'Job',\n",
       "  'uid': 1},\n",
       " {'first name': 'Irfan',\n",
       "  'last name': 'Iqbal',\n",
       "  'age': 40,\n",
       "  'designation': 'Business',\n",
       "  'uid': 2},\n",
       " {'first name': 'Rahim',\n",
       "  'last name': 'Javed',\n",
       "  'age': 24,\n",
       "  'designation': 'Job',\n",
       "  'uid': 3},\n",
       " {'first name': 'Hasnain',\n",
       "  'last name': 'Hanif',\n",
       "  'age': 23,\n",
       "  'designation': 'Job',\n",
       "  'uid': 4},\n",
       " {'first name': 'Younus',\n",
       "  'last name': 'Javed',\n",
       "  'age': 20,\n",
       "  'designation': 'Job',\n",
       "  'uid': 5}]"
      ]
     },
     "execution_count": 81,
     "metadata": {},
     "output_type": "execute_result"
    }
   ],
   "source": [
    "database"
   ]
  },
  {
   "cell_type": "code",
   "execution_count": 82,
   "metadata": {},
   "outputs": [
    {
     "name": "stdout",
     "output_type": "stream",
     "text": [
      "{'first name': 'Rahim', 'last name': 'Javed', 'age': 24, 'designation': 'Job', 'uid': 3}\n",
      "{'first name': 'Younus', 'last name': 'Javed', 'age': 20, 'designation': 'Job', 'uid': 5}\n"
     ]
    }
   ],
   "source": [
    "for single_dictionary in database:\n",
    "    if single_dictionary[\"last name\"] == \"Javed\":\n",
    "        print(single_dictionary)\n",
    "   "
   ]
  },
  {
   "cell_type": "code",
   "execution_count": 83,
   "metadata": {},
   "outputs": [
    {
     "name": "stdout",
     "output_type": "stream",
     "text": [
      "Enter uid 4\n"
     ]
    }
   ],
   "source": [
    "uid = int(input(\"Enter uid \"))"
   ]
  },
  {
   "cell_type": "code",
   "execution_count": 84,
   "metadata": {},
   "outputs": [
    {
     "name": "stdout",
     "output_type": "stream",
     "text": [
      "{'first name': 'Hasnain', 'last name': 'Hanif', 'age': 23, 'designation': 'Job', 'uid': 4}\n"
     ]
    }
   ],
   "source": [
    "for single_dictionary in database:\n",
    "    if single_dictionary[\"uid\"] == uid:\n",
    "        print(single_dictionary)"
   ]
  },
  {
   "cell_type": "code",
   "execution_count": 107,
   "metadata": {},
   "outputs": [
    {
     "name": "stdout",
     "output_type": "stream",
     "text": [
      "Enter user age 6\n"
     ]
    }
   ],
   "source": [
    "age = int(input(\"Enter user age \"))"
   ]
  },
  {
   "cell_type": "code",
   "execution_count": 108,
   "metadata": {},
   "outputs": [
    {
     "name": "stdout",
     "output_type": "stream",
     "text": [
      "{'first name': 'Hamza', 'last name': 'Irfan', 'age': 17, 'designation': 'Job', 'uid': 1}\n",
      "{'first name': 'Irfan', 'last name': 'Iqbal', 'age': 40, 'designation': 'Business', 'uid': 2}\n",
      "{'first name': 'Rahim', 'last name': 'Javed', 'age': 24, 'designation': 'Job', 'uid': 3}\n",
      "{'first name': 'Hasnain', 'last name': 'Hanif', 'age': 23, 'designation': 'Job', 'uid': 4}\n",
      "{'first name': 'Younus', 'last name': 'Javed', 'age': 20, 'designation': 'Job', 'uid': 5}\n"
     ]
    }
   ],
   "source": [
    "for single_dictionary in database:\n",
    "    if single_dictionary[\"age\"] >= age:\n",
    "        print(single_dictionary)"
   ]
  },
  {
   "cell_type": "code",
   "execution_count": 115,
   "metadata": {},
   "outputs": [
    {
     "name": "stdout",
     "output_type": "stream",
     "text": [
      "Enter designation Job\n"
     ]
    }
   ],
   "source": [
    "designation = input(\"Enter designation \")"
   ]
  },
  {
   "cell_type": "code",
   "execution_count": 116,
   "metadata": {},
   "outputs": [
    {
     "name": "stdout",
     "output_type": "stream",
     "text": [
      "{'first name': 'Hamza', 'last name': 'Irfan', 'age': 17, 'designation': 'Job', 'uid': 1}\n",
      "{'first name': 'Rahim', 'last name': 'Javed', 'age': 24, 'designation': 'Job', 'uid': 3}\n",
      "{'first name': 'Hasnain', 'last name': 'Hanif', 'age': 23, 'designation': 'Job', 'uid': 4}\n",
      "{'first name': 'Younus', 'last name': 'Javed', 'age': 20, 'designation': 'Job', 'uid': 5}\n"
     ]
    }
   ],
   "source": [
    "for single_dictionary in database:\n",
    "    if single_dictionary[\"designation\"] == designation:\n",
    "        print(single_dictionary)"
   ]
  },
  {
   "cell_type": "code",
   "execution_count": 117,
   "metadata": {},
   "outputs": [],
   "source": [
    "#appending data in list of dictionaries"
   ]
  },
  {
   "cell_type": "code",
   "execution_count": 118,
   "metadata": {},
   "outputs": [],
   "source": [
    "appandingStudent = {\n",
    "    \"first name\" : \"Eshal\",\n",
    "    \"last name\" : \"Irfan\",\n",
    "    \"age\"   : 8,\n",
    "    \"designation\" : \"Student\",\n",
    "    \"uid\" : 6,\n",
    "}"
   ]
  },
  {
   "cell_type": "code",
   "execution_count": 119,
   "metadata": {},
   "outputs": [],
   "source": [
    "database.append(appandingStudent)"
   ]
  },
  {
   "cell_type": "code",
   "execution_count": 121,
   "metadata": {},
   "outputs": [
    {
     "data": {
      "text/plain": [
       "[{'first name': 'Hamza',\n",
       "  'last name': 'Irfan',\n",
       "  'age': 17,\n",
       "  'designation': 'Job',\n",
       "  'uid': 1},\n",
       " {'first name': 'Irfan',\n",
       "  'last name': 'Iqbal',\n",
       "  'age': 40,\n",
       "  'designation': 'Business',\n",
       "  'uid': 2},\n",
       " {'first name': 'Rahim',\n",
       "  'last name': 'Javed',\n",
       "  'age': 24,\n",
       "  'designation': 'Job',\n",
       "  'uid': 3},\n",
       " {'first name': 'Hasnain',\n",
       "  'last name': 'Hanif',\n",
       "  'age': 23,\n",
       "  'designation': 'Job',\n",
       "  'uid': 4},\n",
       " {'first name': 'Younus',\n",
       "  'last name': 'Javed',\n",
       "  'age': 20,\n",
       "  'designation': 'Job',\n",
       "  'uid': 5},\n",
       " {'first name': 'Eshal',\n",
       "  'last name': 'Irfan',\n",
       "  'age': 8,\n",
       "  'designation': 'Student',\n",
       "  'uid': 6}]"
      ]
     },
     "execution_count": 121,
     "metadata": {},
     "output_type": "execute_result"
    }
   ],
   "source": [
    "database"
   ]
  },
  {
   "cell_type": "code",
   "execution_count": 141,
   "metadata": {},
   "outputs": [],
   "source": [
    "#assignment 3"
   ]
  },
  {
   "cell_type": "code",
   "execution_count": 178,
   "metadata": {},
   "outputs": [],
   "source": [
    "dic = []"
   ]
  },
  {
   "cell_type": "code",
   "execution_count": 192,
   "metadata": {},
   "outputs": [
    {
     "name": "stdout",
     "output_type": "stream",
     "text": [
      "Enter first name Haroon\n",
      "Enter last name Jummani\n",
      "Enter age  16\n",
      "Enter designation Student\n"
     ]
    }
   ],
   "source": [
    "student ={\n",
    "    \"first name\" : input(\"Enter first name \"),\n",
    "    \"last name\" : input(\"Enter last name \"),\n",
    "    \"age\" : int(input(\"Enter age  \")),\n",
    "    \"designation\" : input(\"Enter designation \"),\n",
    "}\n",
    "dic.append(student)"
   ]
  },
  {
   "cell_type": "code",
   "execution_count": 193,
   "metadata": {},
   "outputs": [
    {
     "data": {
      "text/plain": [
       "[{'first name': 'Hunain',\n",
       "  'last name': 'Irfan',\n",
       "  'age': 20,\n",
       "  'designation': 'Business'},\n",
       " {'first name': 'Hammad',\n",
       "  'last name': 'Irfan',\n",
       "  'age': 18,\n",
       "  'designation': 'Student'},\n",
       " {'first name': 'Ali',\n",
       "  'last name': 'Rafique',\n",
       "  'age': 23,\n",
       "  'designation': 'Job'},\n",
       " {'first name': 'Haroon',\n",
       "  'last name': 'Jummani',\n",
       "  'age': 16,\n",
       "  'designation': 'Student'}]"
      ]
     },
     "execution_count": 193,
     "metadata": {},
     "output_type": "execute_result"
    }
   ],
   "source": [
    "dic"
   ]
  },
  {
   "cell_type": "code",
   "execution_count": 194,
   "metadata": {},
   "outputs": [
    {
     "name": "stdout",
     "output_type": "stream",
     "text": [
      "{'first name': 'Hunain', 'last name': 'Irfan', 'age': 20, 'designation': 'Business'}\n"
     ]
    }
   ],
   "source": [
    "for dictionaryy in dic:\n",
    "    if dictionaryy[\"designation\"] == \"Business\":\n",
    "        print(dictionaryy)"
   ]
  },
  {
   "cell_type": "code",
   "execution_count": 195,
   "metadata": {},
   "outputs": [
    {
     "name": "stdout",
     "output_type": "stream",
     "text": [
      "{'first name': 'Hunain', 'last name': 'Irfan', 'age': 20, 'designation': 'Business'}\n",
      "{'first name': 'Hammad', 'last name': 'Irfan', 'age': 18, 'designation': 'Student'}\n",
      "{'first name': 'Ali', 'last name': 'Rafique', 'age': 23, 'designation': 'Job'}\n"
     ]
    }
   ],
   "source": [
    "for dictionaryy in dic:\n",
    "    if dictionaryy[\"age\"] >= 18:\n",
    "        print(dictionaryy)"
   ]
  },
  {
   "cell_type": "code",
   "execution_count": 196,
   "metadata": {},
   "outputs": [
    {
     "name": "stdout",
     "output_type": "stream",
     "text": [
      "{'first name': 'Hammad', 'last name': 'Irfan', 'age': 18, 'designation': 'Student'}\n",
      "{'first name': 'Haroon', 'last name': 'Jummani', 'age': 16, 'designation': 'Student'}\n"
     ]
    }
   ],
   "source": [
    "\n",
    "for dictionaryy in dic:\n",
    "    if dictionaryy[\"designation\"] == \"Student\":\n",
    "        print(dictionaryy)"
   ]
  },
  {
   "cell_type": "code",
   "execution_count": null,
   "metadata": {},
   "outputs": [],
   "source": []
  }
 ],
 "metadata": {
  "kernelspec": {
   "display_name": "Python 3",
   "language": "python",
   "name": "python3"
  },
  "language_info": {
   "codemirror_mode": {
    "name": "ipython",
    "version": 3
   },
   "file_extension": ".py",
   "mimetype": "text/x-python",
   "name": "python",
   "nbconvert_exporter": "python",
   "pygments_lexer": "ipython3",
   "version": "3.8.5"
  }
 },
 "nbformat": 4,
 "nbformat_minor": 4
}
