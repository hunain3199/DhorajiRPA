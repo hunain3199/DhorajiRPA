{
 "cells": [
  {
   "cell_type": "code",
   "execution_count": 106,
   "metadata": {},
   "outputs": [],
   "source": [
    "packages = {\n",
    "    \"1\" : {\n",
    "        \"Package Name\" : \"Gold\",\n",
    "        \"Discount\"     : \"50%\",\n",
    "        \"Monthly Fees\"  : 1000,\n",
    "        \"Annual Fees\"   : 12000\n",
    "        \n",
    "    },\n",
    "\n",
    "\n",
    "    \"2\" : {\n",
    "        \"Package Name\" : \"Silver\",\n",
    "        \"Discount\"     : \"30%\",\n",
    "        \"Monthly Fees\"  : 1000,\n",
    "        \"8 month Fees\"   : 8000\n",
    "    },\n",
    "    \n",
    "    \"3\" : {\n",
    "        \"Package Name\" : \"Bronze\",\n",
    "        \"Discount\"     : \"10%\",\n",
    "        \"Monthly Fees\"  : 1000,\n",
    "        \"4 month Fees\"   : 4000\n",
    "    },\n",
    "    \n",
    "    \n",
    "    \n",
    "}"
   ]
  },
  {
   "cell_type": "code",
   "execution_count": 116,
   "metadata": {},
   "outputs": [
    {
     "name": "stdout",
     "output_type": "stream",
     "text": [
      "Enter Package No1\n"
     ]
    }
   ],
   "source": []
  },
  {
   "cell_type": "code",
   "execution_count": 157,
   "metadata": {},
   "outputs": [],
   "source": [
    "registerStudents_packageNo = []"
   ]
  },
  {
   "cell_type": "code",
   "execution_count": 158,
   "metadata": {},
   "outputs": [
    {
     "name": "stdout",
     "output_type": "stream",
     "text": [
      "If you want to see all packages write AllAll\n",
      "{'1': {'Package Name': 'Gold', 'Discount': '50%', 'Monthly Fees': 1000, 'Annual Fees': 12000}, '2': {'Package Name': 'Silver', 'Discount': '30%', 'Monthly Fees': 1000, '8 month Fees': 8000}, '3': {'Package Name': 'Bronze', 'Discount': '10%', 'Monthly Fees': 1000, '4 month Fees': 4000}}    Select the packages by package no\n"
     ]
    }
   ],
   "source": [
    "userInput =input(\"If you want to see all packages write All\")\n",
    "if userInput == \"All\":\n",
    "    print(str(packages)+ \"    Select the packages by package no\")\n"
   ]
  },
  {
   "cell_type": "code",
   "execution_count": 161,
   "metadata": {},
   "outputs": [
    {
     "name": "stdout",
     "output_type": "stream",
     "text": [
      "Enter Package No3\n",
      "{'Package Name': 'Bronze', 'Discount': '10%', 'Monthly Fees': 1000, '4 month Fees': 4000}\n",
      "This will be the discounted amount which student have to pay 3600.0\n",
      "And the amount before discount is 4000 \n"
     ]
    }
   ],
   "source": [
    "userSelect = input(\"Enter Package No\")\n",
    "registerStudents_packageNo.append(userSelect)\n",
    "if userSelect == \"1\":\n",
    "    registerStudents_packageNo.append(discount1)\n",
    "    print(packages[\"1\"])\n",
    "    package_1()\n",
    "elif userSelect == \"2\":\n",
    "    registerStudents_packageNo.append(discount2)\n",
    "    print(packages[\"2\"])\n",
    "    package_2()\n",
    "elif userSelect == \"3\":\n",
    "    registerStudents_packageNo.append(discount3)\n",
    "    print(packages[\"3\"])\n",
    "    package_3()\n",
    "\n",
    "    "
   ]
  },
  {
   "cell_type": "code",
   "execution_count": 131,
   "metadata": {},
   "outputs": [],
   "source": [
    "def package_1():\n",
    "    global discount1\n",
    "    discount1 =  (12000 * 50) / 100\n",
    "    print(\"This will be the discounted amount which student have to pay \" + str(discount1))\n",
    "    print(\"And the amount before the discount is 12000 \")"
   ]
  },
  {
   "cell_type": "code",
   "execution_count": 132,
   "metadata": {},
   "outputs": [],
   "source": [
    "def package_2():\n",
    "    global discount2\n",
    "    discount2 = (8000 * 70) / 100\n",
    "    print(\"This will be the discounted amount which student have to pay \" + str(discount2))\n",
    "    print(\"And the amount before the discount is 8000 \")"
   ]
  },
  {
   "cell_type": "code",
   "execution_count": 133,
   "metadata": {},
   "outputs": [],
   "source": [
    "def package_3():\n",
    "    global discount3\n",
    "    discount3 =(4000 * 90) / 100\n",
    "    print(\"This will be the discounted amount which student have to pay \" + str(discount3))\n",
    "    print(\"And the amount before discount is 4000 \")"
   ]
  },
  {
   "cell_type": "code",
   "execution_count": 134,
   "metadata": {},
   "outputs": [
    {
     "name": "stdout",
     "output_type": "stream",
     "text": [
      "This will be the discounted amount which student have to pay 3600.0\n",
      "And the amount before discount is 4000 \n"
     ]
    }
   ],
   "source": [
    "package_3()"
   ]
  },
  {
   "cell_type": "code",
   "execution_count": 103,
   "metadata": {},
   "outputs": [
    {
     "data": {
      "text/plain": [
       "{'1': {'Package Name': 'Gold',\n",
       "  'Discount': '50%',\n",
       "  'Monthly Fees': 1000,\n",
       "  'Annual Fees': 12000},\n",
       " '2': {'Package Name': 'Silver',\n",
       "  'Discount': '30%',\n",
       "  'Monthly Fees': 1000,\n",
       "  'Annual Fees': 8000},\n",
       " '3': {'Package Name': 'Bronze',\n",
       "  'Discount': '10%',\n",
       "  'Monthly Fees': 1000,\n",
       "  'Annual Fees': 4000}}"
      ]
     },
     "execution_count": 103,
     "metadata": {},
     "output_type": "execute_result"
    }
   ],
   "source": [
    "packages"
   ]
  },
  {
   "cell_type": "code",
   "execution_count": 162,
   "metadata": {},
   "outputs": [
    {
     "data": {
      "text/plain": [
       "['1', 6000.0, '2', 5600.0, '3', 3600.0]"
      ]
     },
     "execution_count": 162,
     "metadata": {},
     "output_type": "execute_result"
    }
   ],
   "source": [
    "registerStudents_packageNo"
   ]
  },
  {
   "cell_type": "code",
   "execution_count": 165,
   "metadata": {},
   "outputs": [
    {
     "name": "stdout",
     "output_type": "stream",
     "text": [
      "1\n",
      "6000\n",
      "2\n",
      "5600\n",
      "3\n",
      "3600\n"
     ]
    }
   ],
   "source": [
    "summ = 0\n",
    "for i in registerStudents_packageNo:\n",
    "    summ = summ \n",
    "    print(int(i))\n",
    "   \n",
    "        "
   ]
  },
  {
   "cell_type": "code",
   "execution_count": 151,
   "metadata": {},
   "outputs": [
    {
     "ename": "SyntaxError",
     "evalue": "cannot assign to literal (<ipython-input-151-92a4cc7e6dba>, line 1)",
     "output_type": "error",
     "traceback": [
      "\u001b[1;36m  File \u001b[1;32m\"<ipython-input-151-92a4cc7e6dba>\"\u001b[1;36m, line \u001b[1;32m1\u001b[0m\n\u001b[1;33m    1 = \"ali\"\u001b[0m\n\u001b[1;37m    ^\u001b[0m\n\u001b[1;31mSyntaxError\u001b[0m\u001b[1;31m:\u001b[0m cannot assign to literal\n"
     ]
    }
   ],
   "source": []
  },
  {
   "cell_type": "code",
   "execution_count": null,
   "metadata": {},
   "outputs": [],
   "source": []
  }
 ],
 "metadata": {
  "kernelspec": {
   "display_name": "Python 3",
   "language": "python",
   "name": "python3"
  },
  "language_info": {
   "codemirror_mode": {
    "name": "ipython",
    "version": 3
   },
   "file_extension": ".py",
   "mimetype": "text/x-python",
   "name": "python",
   "nbconvert_exporter": "python",
   "pygments_lexer": "ipython3",
   "version": "3.8.5"
  }
 },
 "nbformat": 4,
 "nbformat_minor": 4
}
