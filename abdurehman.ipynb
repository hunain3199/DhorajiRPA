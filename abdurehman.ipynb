{
 "cells": [
  {
   "cell_type": "code",
   "execution_count": 1,
   "id": "10a35a60",
   "metadata": {},
   "outputs": [],
   "source": [
    "totalmarks = 100"
   ]
  },
  {
   "cell_type": "code",
   "execution_count": 2,
   "id": "3df443be",
   "metadata": {},
   "outputs": [
    {
     "data": {
      "text/plain": [
       "int"
      ]
     },
     "execution_count": 2,
     "metadata": {},
     "output_type": "execute_result"
    }
   ],
   "source": [
    "type(totalmarks)"
   ]
  },
  {
   "cell_type": "code",
   "execution_count": 3,
   "id": "50818be5",
   "metadata": {},
   "outputs": [],
   "source": [
    "totalmarks = 'hundred'"
   ]
  },
  {
   "cell_type": "code",
   "execution_count": 4,
   "id": "65c0fdf6",
   "metadata": {},
   "outputs": [
    {
     "data": {
      "text/plain": [
       "str"
      ]
     },
     "execution_count": 4,
     "metadata": {},
     "output_type": "execute_result"
    }
   ],
   "source": [
    "type(totalmarks)"
   ]
  },
  {
   "cell_type": "code",
   "execution_count": 5,
   "id": "c84d41d8",
   "metadata": {},
   "outputs": [],
   "source": [
    "totalmarks = 100.00"
   ]
  },
  {
   "cell_type": "code",
   "execution_count": 6,
   "id": "ad83629e",
   "metadata": {},
   "outputs": [
    {
     "data": {
      "text/plain": [
       "float"
      ]
     },
     "execution_count": 6,
     "metadata": {},
     "output_type": "execute_result"
    }
   ],
   "source": [
    "type(totalmarks)"
   ]
  },
  {
   "cell_type": "markdown",
   "id": "cd0cbc92",
   "metadata": {},
   "source": [
    "## they are different data types"
   ]
  },
  {
   "cell_type": "code",
   "execution_count": 2,
   "id": "9473e89f",
   "metadata": {},
   "outputs": [
    {
     "name": "stdout",
     "output_type": "stream",
     "text": [
      "abdurehman 0\n",
      "abdurehman 1\n",
      "abdurehman 2\n",
      "abdurehman 3\n",
      "abdurehman 4\n",
      "abdurehman 5\n",
      "abdurehman 6\n",
      "abdurehman 7\n",
      "abdurehman 8\n",
      "abdurehman 9\n"
     ]
    }
   ],
   "source": [
    "for i in range(10):\n",
    "    print('abdurehman' + \" \" + str(i))\n",
    "    "
   ]
  },
  {
   "cell_type": "code",
   "execution_count": 11,
   "id": "633aab71",
   "metadata": {},
   "outputs": [],
   "source": [
    "totalmarks = 500\n",
    "science = 80\n",
    "maths = 75\n",
    "english = 45\n",
    "geo = 66\n",
    "urdu = 55"
   ]
  },
  {
   "cell_type": "code",
   "execution_count": 12,
   "id": "896c892b",
   "metadata": {},
   "outputs": [],
   "source": [
    "subject_list = []"
   ]
  },
  {
   "cell_type": "code",
   "execution_count": 13,
   "id": "13868278",
   "metadata": {},
   "outputs": [],
   "source": [
    "subject_list.append(science)"
   ]
  },
  {
   "cell_type": "code",
   "execution_count": 15,
   "id": "42053c80",
   "metadata": {},
   "outputs": [],
   "source": [
    "subject_list.append(maths)"
   ]
  },
  {
   "cell_type": "code",
   "execution_count": 16,
   "id": "c212ff62",
   "metadata": {},
   "outputs": [],
   "source": [
    "subject_list.append(english)"
   ]
  },
  {
   "cell_type": "code",
   "execution_count": 17,
   "id": "71d79ab3",
   "metadata": {},
   "outputs": [],
   "source": [
    "subject_list.append(geo)"
   ]
  },
  {
   "cell_type": "code",
   "execution_count": 18,
   "id": "5040a091",
   "metadata": {},
   "outputs": [],
   "source": [
    "subject_list.append(urdu)"
   ]
  },
  {
   "cell_type": "code",
   "execution_count": 19,
   "id": "a450b4d0",
   "metadata": {},
   "outputs": [
    {
     "data": {
      "text/plain": [
       "[80, 75, 45, 66, 55]"
      ]
     },
     "execution_count": 19,
     "metadata": {},
     "output_type": "execute_result"
    }
   ],
   "source": [
    "subject_list"
   ]
  },
  {
   "cell_type": "code",
   "execution_count": 20,
   "id": "a748ffe7",
   "metadata": {},
   "outputs": [
    {
     "data": {
      "text/plain": [
       "list"
      ]
     },
     "execution_count": 20,
     "metadata": {},
     "output_type": "execute_result"
    }
   ],
   "source": [
    "type(subject_list)"
   ]
  },
  {
   "cell_type": "code",
   "execution_count": 21,
   "id": "f3d6010e",
   "metadata": {},
   "outputs": [],
   "source": [
    "total_obtainedmarks = sum(subject_list)"
   ]
  },
  {
   "cell_type": "code",
   "execution_count": 22,
   "id": "29532aaa",
   "metadata": {},
   "outputs": [
    {
     "data": {
      "text/plain": [
       "321"
      ]
     },
     "execution_count": 22,
     "metadata": {},
     "output_type": "execute_result"
    }
   ],
   "source": [
    "total_obtainedmarks"
   ]
  },
  {
   "cell_type": "code",
   "execution_count": 23,
   "id": "ca3b58c7",
   "metadata": {},
   "outputs": [
    {
     "data": {
      "text/plain": [
       "500"
      ]
     },
     "execution_count": 23,
     "metadata": {},
     "output_type": "execute_result"
    }
   ],
   "source": [
    "totalmarks"
   ]
  },
  {
   "cell_type": "code",
   "execution_count": 24,
   "id": "9e9c4150",
   "metadata": {},
   "outputs": [],
   "source": [
    "percentage = (total_obtainedmarks / totalmarks)  * 100"
   ]
  },
  {
   "cell_type": "code",
   "execution_count": 25,
   "id": "e9c790e7",
   "metadata": {},
   "outputs": [
    {
     "data": {
      "text/plain": [
       "64.2"
      ]
     },
     "execution_count": 25,
     "metadata": {},
     "output_type": "execute_result"
    }
   ],
   "source": [
    "percentage"
   ]
  },
  {
   "cell_type": "code",
   "execution_count": 26,
   "id": "0a2d0492",
   "metadata": {},
   "outputs": [
    {
     "name": "stdout",
     "output_type": "stream",
     "text": [
      "D\n"
     ]
    }
   ],
   "source": [
    "if percentage > 90 and percentage < 100:\n",
    "    print(\"A\")\n",
    "elif percentage > 80 and percentage < 90:\n",
    "    print(\"B\")\n",
    "elif percentage > 70 and percentage < 80:\n",
    "    print(\"C\")\n",
    "elif percentage > 60 and percentage < 70:\n",
    "    print(\"D\")\n",
    "else:\n",
    "    print(\"Fail\")"
   ]
  },
  {
   "cell_type": "code",
   "execution_count": null,
   "id": "5114a4fb",
   "metadata": {},
   "outputs": [],
   "source": []
  }
 ],
 "metadata": {
  "kernelspec": {
   "display_name": "Python 3 (ipykernel)",
   "language": "python",
   "name": "python3"
  },
  "language_info": {
   "codemirror_mode": {
    "name": "ipython",
    "version": 3
   },
   "file_extension": ".py",
   "mimetype": "text/x-python",
   "name": "python",
   "nbconvert_exporter": "python",
   "pygments_lexer": "ipython3",
   "version": "3.9.12"
  }
 },
 "nbformat": 4,
 "nbformat_minor": 5
}
