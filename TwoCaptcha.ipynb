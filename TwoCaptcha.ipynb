{
 "cells": [
  {
   "cell_type": "code",
   "execution_count": null,
   "id": "f6d578bf",
   "metadata": {},
   "outputs": [],
   "source": [
    "from selenium import webdriver\n",
    "from selenium.webdriver.common.by import By\n",
    "from selenium.webdriver.support.ui import WebDriverWait\n",
    "from selenium.webdriver.support import expected_conditions as EC\n",
    "from selenium.webdriver.remote.webelement import WebElement\n",
    "from selenium import webdriver\n",
    "from webdriver_manager.chrome import ChromeDriverManager\n",
    "import time\n",
    "from twocaptcha import TwoCaptcha\n",
    "import sys\n",
    "import os"
   ]
  },
  {
   "cell_type": "code",
   "execution_count": null,
   "id": "54ee4f01",
   "metadata": {},
   "outputs": [],
   "source": [
    "try:\n",
    "    image = WebDriverWait(driver, 10).until(\n",
    "                            EC.presence_of_element_located((By.XPATH, \"//img[@class='LBD_CaptchaImage']\")) )\n",
    "    img_src = image.get_attribute('src')\n",
    "    image.screenshot('captchas/2.png')\n",
    "    api_key = os.getenv('APIKEY_2CAPTCHA', '5045661895242302e6')\n",
    "\n",
    "    solver = TwoCaptcha(api_key)\n",
    "except:\n",
    "    continue"
   ]
  }
 ],
 "metadata": {
  "kernelspec": {
   "display_name": "Python 3 (ipykernel)",
   "language": "python",
   "name": "python3"
  },
  "language_info": {
   "codemirror_mode": {
    "name": "ipython",
    "version": 3
   },
   "file_extension": ".py",
   "mimetype": "text/x-python",
   "name": "python",
   "nbconvert_exporter": "python",
   "pygments_lexer": "ipython3",
   "version": "3.9.12"
  }
 },
 "nbformat": 4,
 "nbformat_minor": 5
}
