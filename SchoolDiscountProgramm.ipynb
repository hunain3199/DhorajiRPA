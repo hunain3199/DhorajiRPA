{
 "cells": [
  {
   "cell_type": "code",
   "execution_count": 1,
   "metadata": {},
   "outputs": [],
   "source": [
    "#Showing Packages On dictionary\n",
    "packages = {\n",
    "    \"1\" : {\n",
    "        \"Package Name\" : \"Gold\",\n",
    "        \"Discount\"     : \"50%\",\n",
    "        \"Monthly Fees\"  : 1000,\n",
    "        \"Annual Fees\"   : 12000\n",
    "        \n",
    "    },\n",
    "\n",
    "\n",
    "    \"2\" : {\n",
    "        \"Package Name\" : \"Silver\",\n",
    "        \"Discount\"     : \"30%\",\n",
    "        \"Monthly Fees\"  : 1000,\n",
    "        \"8 month Fees\"   : 8000\n",
    "    },\n",
    "    \n",
    "    \"3\" : {\n",
    "        \"Package Name\" : \"Bronze\",\n",
    "        \"Discount\"     : \"10%\",\n",
    "        \"Monthly Fees\"  : 1000,\n",
    "        \"4 month Fees\"   : 4000\n",
    "    },\n",
    "    \n",
    "    \n",
    "    \n",
    "}"
   ]
  },
  {
   "cell_type": "code",
   "execution_count": 2,
   "metadata": {},
   "outputs": [],
   "source": [
    "registerStudents_packageNo = [] #declaring list which will store income according to the packages"
   ]
  },
  {
   "cell_type": "code",
   "execution_count": 3,
   "metadata": {},
   "outputs": [
    {
     "name": "stdout",
     "output_type": "stream",
     "text": [
      "If you want to see all packages write All all\n",
      "1 {'Package Name': 'Gold', 'Discount': '50%', 'Monthly Fees': 1000, 'Annual Fees': 12000}\n",
      " Select the packages by package no\n",
      "2 {'Package Name': 'Silver', 'Discount': '30%', 'Monthly Fees': 1000, '8 month Fees': 8000}\n",
      " Select the packages by package no\n",
      "3 {'Package Name': 'Bronze', 'Discount': '10%', 'Monthly Fees': 1000, '4 month Fees': 4000}\n",
      " Select the packages by package no\n"
     ]
    }
   ],
   "source": [
    "#user will write \"All\" to see all packages\n",
    "userInput =input(\"If you want to see all packages write All \")\n",
    "if userInput == \"All\"or userInput == \"all\":\n",
    "    for key,value in packages.items():\n",
    "        print(key,value)\n",
    "        print(\" Select the packages by package no\")\n",
    "    \n",
    "    \n",
    "\n"
   ]
  },
  {
   "cell_type": "code",
   "execution_count": 4,
   "metadata": {},
   "outputs": [],
   "source": [
    "def package_1():\n",
    "    global discount1 #declaring as global so we can use it anywhere and anytime in the whole program\n",
    "    discount1 =  (12000 * 50) / 100\n",
    "    \n",
    "    print(\"This will be the discounted amount which student have to pay \" + str(discount1))\n",
    "    print(\"And the amount before the discount is 12000 \")\n",
    "    \n",
    "    return discount1"
   ]
  },
  {
   "cell_type": "code",
   "execution_count": 5,
   "metadata": {},
   "outputs": [],
   "source": [
    "def package_2():\n",
    "    global discount2 #declaring as global so we can use it anywhere and anytime in the whole program\n",
    "    discount2 = (8000 * 70) / 100\n",
    "    print(\"This will be the discounted amount which student have to pay \" + str(discount2))\n",
    "    print(\"And the amount before the discount is 8000 \")\n",
    "    \n",
    "    return discount2"
   ]
  },
  {
   "cell_type": "code",
   "execution_count": 6,
   "metadata": {},
   "outputs": [],
   "source": [
    "def package_3():\n",
    "    global discount3 #declaring as global so we can use it anywhere and anytime in the whole program\n",
    "    discount3 =(4000 * 90) / 100\n",
    "    print(\"This will be the discounted amount which student have to pay \" + str(discount3))\n",
    "    print(\"And the amount before discount is 4000 \")\n",
    "    \n",
    "    return discount3\n",
    "    "
   ]
  },
  {
   "cell_type": "code",
   "execution_count": 11,
   "metadata": {},
   "outputs": [
    {
     "name": "stdout",
     "output_type": "stream",
     "text": [
      "Select the Package by Package No 3\n",
      "This will be the discounted amount which student have to pay 3600.0\n",
      "And the amount before discount is 4000 \n",
      "{'Package Name': 'Bronze', 'Discount': '10%', 'Monthly Fees': 1000, '4 month Fees': 4000}\n"
     ]
    }
   ],
   "source": [
    "userSelect = input(\"Select the Package by Package No \")\n",
    "#registerStudents_packageNo.append(userSelect)\n",
    "if userSelect == str(1):\n",
    "    discount1 = package_1()\n",
    "    registerStudents_packageNo.append(discount1)\n",
    "    print(packages[\"1\"])\n",
    "\n",
    "    \n",
    "elif userSelect == str(2):\n",
    "    discount2 = package_2()\n",
    "    registerStudents_packageNo.append(discount2)\n",
    "    print(packages[\"2\"])\n",
    "    \n",
    "    \n",
    "elif userSelect == str(3):\n",
    "    \n",
    "    discount3 = package_3()\n",
    "    registerStudents_packageNo.append(discount3)\n",
    "    print(packages[\"3\"])\n",
    "\n",
    "else:\n",
    "    print(\"Error! See packages and package no again\")\n",
    "    \n",
    "    \n",
    "    \n",
    "    \n",
    "\n",
    "income = registerStudents_packageNo\n",
    "summ = 0\n",
    "for i in income:\n",
    "    summ = summ + i\n",
    "   "
   ]
  },
  {
   "cell_type": "code",
   "execution_count": 12,
   "metadata": {},
   "outputs": [
    {
     "data": {
      "text/plain": [
       "[6000.0, 5600.0, 3600.0]"
      ]
     },
     "execution_count": 12,
     "metadata": {},
     "output_type": "execute_result"
    }
   ],
   "source": [
    "income"
   ]
  },
  {
   "cell_type": "code",
   "execution_count": 13,
   "metadata": {},
   "outputs": [
    {
     "name": "stdout",
     "output_type": "stream",
     "text": [
      "The Total Income of the school is 15200.0\n"
     ]
    }
   ],
   "source": [
    "print(\"The Total Income of the school is \" + str(summ))"
   ]
  },
  {
   "cell_type": "code",
   "execution_count": null,
   "metadata": {},
   "outputs": [],
   "source": []
  },
  {
   "cell_type": "code",
   "execution_count": null,
   "metadata": {},
   "outputs": [],
   "source": []
  }
 ],
 "metadata": {
  "kernelspec": {
   "display_name": "Python 3",
   "language": "python",
   "name": "python3"
  },
  "language_info": {
   "codemirror_mode": {
    "name": "ipython",
    "version": 3
   },
   "file_extension": ".py",
   "mimetype": "text/x-python",
   "name": "python",
   "nbconvert_exporter": "python",
   "pygments_lexer": "ipython3",
   "version": "3.8.5"
  }
 },
 "nbformat": 4,
 "nbformat_minor": 4
}
