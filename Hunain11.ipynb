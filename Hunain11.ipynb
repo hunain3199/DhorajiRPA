{
 "cells": [
  {
   "cell_type": "code",
   "execution_count": 6,
   "metadata": {},
   "outputs": [
    {
     "name": "stdout",
     "output_type": "stream",
     "text": [
      "Enter precentage90\n",
      "A grade\n"
     ]
    }
   ],
   "source": [
    "per = int(input(\"Enter precentage\"))\n",
    "if per > 90:\n",
    "    print(\"A* grade\")\n",
    "if per > 80 and per <=90:\n",
    "    print(\"A grade\")\n",
    "if per > 60 and per <= 80:\n",
    "    print(\"B grade\")\n",
    "if per < 60:\n",
    "    print(\"Fail\")"
   ]
  },
  {
   "cell_type": "code",
   "execution_count": 11,
   "metadata": {},
   "outputs": [
    {
     "name": "stdout",
     "output_type": "stream",
     "text": [
      "Enter cost of bike :99000\n",
      "9900.0\n"
     ]
    }
   ],
   "source": [
    "cost = int(input(\"Enter cost of bike :\"))\n",
    "if cost > 100000:\n",
    "        tax = (cost * 15) / 100\n",
    "        print(tax)\n",
    "if cost > 50000 and cost <= 100000:\n",
    "        tax = (cost * 10) / 100\n",
    "        print(tax)\n",
    "if cost <= 50000:\n",
    "    tax = (cost * 5) / 100\n",
    "    print(tax)\n",
    "\n",
    "    "
   ]
  },
  {
   "cell_type": "code",
   "execution_count": 19,
   "metadata": {},
   "outputs": [
    {
     "name": "stdout",
     "output_type": "stream",
     "text": [
      "Enter Number 1 till 7 : 100\n",
      "Enter Number Between 1 to 7\n"
     ]
    }
   ],
   "source": [
    "num = int(input(\"Enter Number 1 till 7 : \"))\n",
    "if num == 1:\n",
    "    print(\"Sunday\")\n",
    "elif num == 2:\n",
    "    print(\"Monday\")\n",
    "elif num == 3:\n",
    "    print(\"Tuesday\")\n",
    "elif num == 4:\n",
    "    print(\"Wednesday\")\n",
    "elif num == 5:\n",
    "    print(\"Thursday\")\n",
    "elif num == 6:\n",
    "    print(\"Friday\")\n",
    "elif num == 7:\n",
    "    print(\"Saturday\")\n",
    "else:\n",
    "    print(\"Enter Number Between 1 to 7\")"
   ]
  },
  {
   "cell_type": "code",
   "execution_count": 39,
   "metadata": {},
   "outputs": [
    {
     "name": "stdout",
     "output_type": "stream",
     "text": [
      "Enter Working Days : 100\n",
      "Enter Absent Days : 20\n",
      "You will sit.!\n"
     ]
    }
   ],
   "source": [
    "workingDays = int(input(\"Enter Working Days : \"))\n",
    "absentDays = int(input(\"Enter Absent Days : \" ))\n",
    "percentage = ((workingDays-absentDays)/workingDays) * 100\n",
    "if percentage < 75:\n",
    "    \n",
    "    print(\"Student will not sit in exam\")\n",
    "else:\n",
    "    print(\"You will sit.!\")\n"
   ]
  },
  {
   "cell_type": "code",
   "execution_count": 45,
   "metadata": {},
   "outputs": [
    {
     "name": "stdout",
     "output_type": "stream",
     "text": [
      "Enter SALARY : 10000\n",
      "Enter Number of years : 5\n",
      "10500.0\n"
     ]
    }
   ],
   "source": [
    "salary = int(input(\"Enter SALARY : \"))\n",
    "year = int(input(\"Enter Number of years : \"))\n",
    "if year  > 10:\n",
    "    bonus = (salary / 100) * 10\n",
    "    \n",
    "    print(bonus+salary)\n",
    "elif year >=6 and year <=10:\n",
    "    bonus = (salary / 100) * 8\n",
    "    print(bonus + salary)\n",
    "elif year < 6:\n",
    "    bonus = (salary / 100) * 5\n",
    "    print(bonus + salary)\n",
    "else:\n",
    "    print(\"will not get bonus\")\n",
    "\n",
    "\n"
   ]
  },
  {
   "cell_type": "code",
   "execution_count": 49,
   "metadata": {},
   "outputs": [
    {
     "name": "stdout",
     "output_type": "stream",
     "text": [
      "Enter Side1 : 10\n",
      "Enter Side2 : 8\n",
      "Enter Side 3 : 9\n",
      "Scalene Triangle\n"
     ]
    }
   ],
   "source": [
    "side1 = int(input(\"Enter Side1 : \"))\n",
    "side2 = int(input(\"Enter Side2 : \"))\n",
    "side3 = int(input(\"Enter Side 3 : \"))\n",
    "if side1 == side2 and side2 == side3:\n",
    "    print(\"Equilateral traingle\")\n",
    "elif side1 != side2 and side2 != side3:\n",
    "    print(\"Scalene Triangle\")\n",
    "else:\n",
    "    print(\"Iscoles triangle\")\n"
   ]
  },
  {
   "cell_type": "code",
   "execution_count": null,
   "metadata": {},
   "outputs": [],
   "source": []
  }
 ],
 "metadata": {
  "kernelspec": {
   "display_name": "Python 3",
   "language": "python",
   "name": "python3"
  },
  "language_info": {
   "codemirror_mode": {
    "name": "ipython",
    "version": 3
   },
   "file_extension": ".py",
   "mimetype": "text/x-python",
   "name": "python",
   "nbconvert_exporter": "python",
   "pygments_lexer": "ipython3",
   "version": "3.8.5"
  }
 },
 "nbformat": 4,
 "nbformat_minor": 4
}
