{
 "cells": [
  {
   "cell_type": "code",
   "execution_count": 1,
   "metadata": {},
   "outputs": [],
   "source": [
    "from urllib.request import urlopen\n",
    "from bs4 import BeautifulSoup"
   ]
  },
  {
   "cell_type": "code",
   "execution_count": 2,
   "metadata": {},
   "outputs": [],
   "source": [
    "html = urlopen('https://www.redrickshaw.com/collections/treats-drinks')"
   ]
  },
  {
   "cell_type": "code",
   "execution_count": 3,
   "metadata": {},
   "outputs": [],
   "source": [
    "bs = BeautifulSoup(html,'html.parser')"
   ]
  },
  {
   "cell_type": "code",
   "execution_count": 4,
   "metadata": {},
   "outputs": [],
   "source": [
    "nameList = bs.findAll('span',{'class':'rr-custom-product-item-title card-information__text h5'})"
   ]
  },
  {
   "cell_type": "code",
   "execution_count": 5,
   "metadata": {},
   "outputs": [
    {
     "name": "stdout",
     "output_type": "stream",
     "text": [
      "20\n"
     ]
    }
   ],
   "source": [
    "print(len(nameList))"
   ]
  },
  {
   "cell_type": "code",
   "execution_count": 6,
   "metadata": {},
   "outputs": [],
   "source": [
    "element = bs.find('div',{'class' : 'product-page-review-wrapper'})\n",
    "\n",
    "pre_sibling = element.previous_sibling.previous_sibling"
   ]
  },
  {
   "cell_type": "code",
   "execution_count": 7,
   "metadata": {},
   "outputs": [
    {
     "name": "stdout",
     "output_type": "stream",
     "text": [
      "<div class=\"price-wrap price\">\n",
      "<span class=\"old-price hidden\"></span>\n",
      "<span class=\"special-price\">\n",
      "            \n",
      "\n",
      "    £0.35\n",
      "\n",
      "\n",
      "          </span>\n",
      "</div>\n"
     ]
    }
   ],
   "source": [
    "print(pre_sibling)"
   ]
  },
  {
   "cell_type": "code",
   "execution_count": 27,
   "metadata": {},
   "outputs": [],
   "source": [
    "html5 = urlopen('https://eurasiaonline.ie/canned-preserved/indian/')"
   ]
  },
  {
   "cell_type": "code",
   "execution_count": 28,
   "metadata": {},
   "outputs": [],
   "source": [
    "bs = BeautifulSoup(html5,'html.parser')"
   ]
  },
  {
   "cell_type": "code",
   "execution_count": 29,
   "metadata": {},
   "outputs": [
    {
     "name": "stdout",
     "output_type": "stream",
     "text": [
      "\n",
      "Chaokoh Coconut Milk 24X400ml\n",
      "\n",
      "\n",
      "Chaokoh Coconut Milk 6X2900ml\n",
      "\n",
      "\n",
      "Chaokoh Coconut Milk 2900ml\n",
      "\n",
      "\n",
      "Chaokoh Coconut Milk 165ml\n",
      "\n",
      "\n",
      "Nestle Cream 170g\n",
      "\n",
      "\n",
      "Mitchells Sarson Saag 800g\n",
      "\n",
      "\n",
      "Mitchells Sarson Saag 425g\n",
      "\n",
      "\n",
      "Lamthong Coconut Milk 400ml\n",
      "\n",
      "\n",
      "KTC Ginger and Garlic Paste 750 G\n",
      "\n",
      "\n",
      "KTC Chopped Tomatoes 12x400 G\n",
      "\n",
      "\n",
      "KTC Chick Peas 800g\n",
      "\n",
      "\n",
      "KTC Chick Peas 12x400g\n",
      "\n"
     ]
    }
   ],
   "source": [
    "for product in bs.findAll('h4',{'class' : 'card-title'}):\n",
    "    print(product.text)"
   ]
  },
  {
   "cell_type": "code",
   "execution_count": 30,
   "metadata": {},
   "outputs": [],
   "source": [
    "nextPage = bs.find('li',{'class' : \"pagination-item pagination-item--next\"})"
   ]
  },
  {
   "cell_type": "code",
   "execution_count": 33,
   "metadata": {},
   "outputs": [
    {
     "name": "stdout",
     "output_type": "stream",
     "text": [
      "https://eurasiaonline.ie/canned-preserved/indian/?sort=featured&page=2\n"
     ]
    }
   ],
   "source": [
    "nextPage = nextPage.a.attrs['href']\n",
    "print(nextPage)"
   ]
  },
  {
   "cell_type": "code",
   "execution_count": 34,
   "metadata": {},
   "outputs": [
    {
     "name": "stdout",
     "output_type": "stream",
     "text": [
      "\n",
      "Heera Spinach Puree 795g\n",
      "\n",
      "\n",
      "Heera Spinach Puree 395g\n",
      "\n",
      "\n",
      "Heera Soya Chaap 800G\n",
      "\n",
      "\n",
      "Heera Sarson Da Saag 800g\n",
      "\n",
      "\n",
      "Heera Sarson Da Saag 450g\n",
      "\n",
      "\n",
      "Heera Red Kidney Beans 400g\n",
      "\n",
      "\n",
      "Heera Plum Tomatoes 400g\n",
      "\n",
      "\n",
      "Heera Kesar Mango Pulp 850g\n",
      "\n",
      "\n",
      "Heera Kala Chana 400g\n",
      "\n",
      "\n",
      "Heera Chopped Tomatoes 400g\n",
      "\n",
      "\n",
      "Heera Chick Peas 800g\n",
      "\n",
      "\n",
      "Heera Chick Peas 400g\n",
      "\n",
      "\n",
      "Heera Butter Beans 400g\n",
      "\n",
      "\n",
      "Heera Black Eye Beans 400g\n",
      "\n",
      "\n",
      "Haldirams Rasgulla 1 Kg\n",
      "\n",
      "\n",
      "Haldirams Gulab Jaman 1 Kg\n",
      "\n",
      "\n",
      "East End Spinach Puree 800g\n",
      "\n",
      "\n",
      "East End Spinach Puree 395g\n",
      "\n",
      "\n",
      "East End Red Kidney Beans 400g\n",
      "\n",
      "\n",
      "East End Peeled Plum Tomato 400g\n",
      "\n",
      "\n",
      "East End Kala Chana 400g\n",
      "\n",
      "\n",
      "East End Chopped Tomato 400g\n",
      "\n",
      "\n",
      "East End Chick Peas 800g\n",
      "\n",
      "\n",
      "East End Chick Peas 400g\n",
      "\n",
      "\n",
      "East End Chick Peas 12 X 400g\n",
      "\n",
      "\n",
      "East End Alphonso Mango Pulp 850 g\n",
      "\n",
      "\n",
      "Cirio Tomato Puree 400G\n",
      "\n",
      "\n",
      "Cirio Tomato Puree 140G\n",
      "\n",
      "\n",
      "Cirio Double Concentrated Tomato Puree 140G\n",
      "\n",
      "\n",
      "Chaokoh Coconut Milk 400ml\n",
      "\n"
     ]
    }
   ],
   "source": [
    "while True:\n",
    "    html = urlopen(nextPage)\n",
    "    html = html.read()\n",
    "    bs = BeautifulSoup(html,'html.parser')\n",
    "    products = bs.findAll('h4',{'class' : 'card-title'})\n",
    "    for i in products:\n",
    "        print(i.text)\n",
    "    \n",
    "    try:    \n",
    "        nextPage = bs.find('li',{'class' : \"pagination-item pagination-item--next\"})\n",
    "        nextPage = nextPage.a.attrs['href']\n",
    "    except:\n",
    "        break"
   ]
  },
  {
   "cell_type": "code",
   "execution_count": null,
   "metadata": {},
   "outputs": [],
   "source": [
    "for price in bs.findAll('span',{'class':'price'}):\n",
    "    print(price.text)"
   ]
  },
  {
   "cell_type": "code",
   "execution_count": null,
   "metadata": {},
   "outputs": [],
   "source": []
  },
  {
   "cell_type": "code",
   "execution_count": null,
   "metadata": {},
   "outputs": [],
   "source": []
  }
 ],
 "metadata": {
  "kernelspec": {
   "display_name": "Python 3",
   "language": "python",
   "name": "python3"
  },
  "language_info": {
   "codemirror_mode": {
    "name": "ipython",
    "version": 3
   },
   "file_extension": ".py",
   "mimetype": "text/x-python",
   "name": "python",
   "nbconvert_exporter": "python",
   "pygments_lexer": "ipython3",
   "version": "3.8.5"
  }
 },
 "nbformat": 4,
 "nbformat_minor": 4
}
