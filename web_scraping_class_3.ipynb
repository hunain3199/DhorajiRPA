{
 "cells": [
  {
   "cell_type": "code",
   "execution_count": 1,
   "metadata": {},
   "outputs": [],
   "source": [
    "from urllib.request import urlopen\n",
    "from bs4 import BeautifulSoup"
   ]
  },
  {
   "cell_type": "code",
   "execution_count": 2,
   "metadata": {},
   "outputs": [],
   "source": [
    "html = urlopen('https://www.redrickshaw.com/collections/treats-drinks')"
   ]
  },
  {
   "cell_type": "code",
   "execution_count": 3,
   "metadata": {},
   "outputs": [],
   "source": [
    "bs = BeautifulSoup(html,'html.parser')"
   ]
  },
  {
   "cell_type": "code",
   "execution_count": 4,
   "metadata": {},
   "outputs": [],
   "source": [
    "nameList = bs.findAll('span',{'class':'rr-custom-product-item-title card-information__text h5'})"
   ]
  },
  {
   "cell_type": "code",
   "execution_count": 5,
   "metadata": {},
   "outputs": [
    {
     "name": "stdout",
     "output_type": "stream",
     "text": [
      "20\n"
     ]
    }
   ],
   "source": [
    "print(len(nameList))"
   ]
  },
  {
   "cell_type": "code",
   "execution_count": 6,
   "metadata": {},
   "outputs": [],
   "source": [
    "element = bs.find('div',{'class' : 'product-page-review-wrapper'})\n",
    "\n",
    "pre_sibling = element.previous_sibling.previous_sibling"
   ]
  },
  {
   "cell_type": "code",
   "execution_count": 7,
   "metadata": {},
   "outputs": [
    {
     "name": "stdout",
     "output_type": "stream",
     "text": [
      "<div class=\"price-wrap price\">\n",
      "<span class=\"old-price hidden\"></span>\n",
      "<span class=\"special-price\">\n",
      "            \n",
      "\n",
      "    £0.35\n",
      "\n",
      "\n",
      "          </span>\n",
      "</div>\n"
     ]
    }
   ],
   "source": [
    "print(pre_sibling)"
   ]
  },
  {
   "cell_type": "code",
   "execution_count": 43,
   "metadata": {},
   "outputs": [],
   "source": []
  },
  {
   "cell_type": "code",
   "execution_count": 44,
   "metadata": {},
   "outputs": [],
   "source": []
  },
  {
   "cell_type": "code",
   "execution_count": 45,
   "metadata": {},
   "outputs": [
    {
     "name": "stdout",
     "output_type": "stream",
     "text": [
      "\n",
      "Chaokoh Coconut Milk 24X400ml\n",
      "\n",
      "\n",
      "Chaokoh Coconut Milk 6X2900ml\n",
      "\n",
      "\n",
      "Chaokoh Coconut Milk 2900ml\n",
      "\n",
      "\n",
      "Chaokoh Coconut Milk 165ml\n",
      "\n",
      "\n",
      "Nestle Cream 170g\n",
      "\n",
      "\n",
      "Mitchells Sarson Saag 800g\n",
      "\n",
      "\n",
      "Mitchells Sarson Saag 425g\n",
      "\n",
      "\n",
      "Lamthong Coconut Milk 400ml\n",
      "\n",
      "\n",
      "KTC Ginger and Garlic Paste 750 G\n",
      "\n",
      "\n",
      "KTC Chopped Tomatoes 12x400 G\n",
      "\n",
      "\n",
      "KTC Chick Peas 800g\n",
      "\n",
      "\n",
      "KTC Chick Peas 12x400g\n",
      "\n"
     ]
    }
   ],
   "source": [
    "for product in bs.findAll('h4',{'class' : 'card-title'}):\n",
    "    print(product.text)"
   ]
  },
  {
   "cell_type": "code",
   "execution_count": 46,
   "metadata": {},
   "outputs": [],
   "source": []
  },
  {
   "cell_type": "code",
   "execution_count": 47,
   "metadata": {},
   "outputs": [
    {
     "name": "stdout",
     "output_type": "stream",
     "text": [
      "https://eurasiaonline.ie/canned-preserved/indian/?sort=featured&page=2\n"
     ]
    }
   ],
   "source": [
    "\n",
    "print(nextPage)"
   ]
  },
  {
   "cell_type": "code",
   "execution_count": 55,
   "metadata": {},
   "outputs": [
    {
     "name": "stdout",
     "output_type": "stream",
     "text": [
      "Heera Spinach Puree 795g\n",
      "€1.89\n",
      "Heera Spinach Puree 395g\n",
      "€1.25\n",
      "Heera Soya Chaap 800G\n",
      "€5.49\n",
      "Heera Sarson Da Saag 800g\n",
      "€2.99\n",
      "Heera Sarson Da Saag 450g\n",
      "€1.69\n",
      "Heera Red Kidney Beans 400g\n",
      "€0.79\n",
      "Heera Plum Tomatoes 400g\n",
      "€0.59\n",
      "Heera Kesar Mango Pulp 850g\n",
      "€2.85\n",
      "Heera Kala Chana 400g\n",
      "€0.75\n",
      "Heera Chopped Tomatoes 400g\n",
      "€0.55\n",
      "Heera Chick Peas 800g\n",
      "€1.25\n",
      "Heera Chick Peas 400g\n",
      "€0.55\n",
      "Heera Butter Beans 400g\n",
      "€0.75\n",
      "Heera Black Eye Beans 400g\n",
      "€0.75\n",
      "Haldirams Rasgulla 1 Kg\n",
      "€4.99\n",
      "Haldirams Gulab Jaman 1 Kg\n",
      "€4.99\n",
      "East End Spinach Puree 800g\n",
      "€1.95\n",
      "East End Spinach Puree 395g\n",
      "€1.25\n",
      "East End Red Kidney Beans 400g\n",
      "€0.69\n",
      "East End Peeled Plum Tomato 400g\n",
      "€0.49\n",
      "East End Kala Chana 400g\n",
      "€0.49\n",
      "East End Chopped Tomato 400g\n",
      "€0.45\n",
      "East End Chick Peas 800g\n",
      "€0.89\n",
      "East End Chick Peas 400g\n",
      "€0.55\n",
      "East End Chick Peas 12 X 400g\n",
      "€5.99\n",
      "East End Alphonso Mango Pulp 850 g\n",
      "€3.39\n",
      "Cirio Tomato Puree 400G\n",
      "€1.99\n",
      "Cirio Tomato Puree 140G\n",
      "€1.15\n",
      "Cirio Double Concentrated Tomato Puree 140G\n",
      "€1.45\n",
      "Chaokoh Coconut Milk 400ml\n",
      "€2.95\n"
     ]
    }
   ],
   "source": [
    "html5 = urlopen('https://eurasiaonline.ie/canned-preserved/indian/')\n",
    "bs = BeautifulSoup(html5,'html.parser')\n",
    "\n",
    "nextPage = bs.find('li',{'class' : \"pagination-item pagination-item--next\"})\n",
    "nextPage = nextPage.a.attrs['href']\n",
    "\n",
    "while True:\n",
    "    html = urlopen(nextPage)\n",
    "    html = html.read()\n",
    "    bs = BeautifulSoup(html,'html.parser')\n",
    "    \n",
    "    products = bs.findAll('h4',{'class' : 'card-title'})\n",
    "    prices = bs.findAll('div',{'class':'card-text'})\n",
    "    \n",
    "    for i in range(0, len(products)):\n",
    "        name = products[i].text\n",
    "        price = prices[i].text\n",
    "        print(name.strip())\n",
    "        print(price.strip())\n",
    "        \n",
    "    \n",
    "    \n",
    "#     for i in products:\n",
    "#         print(i.text)\n",
    "    \n",
    "    try:    \n",
    "        nextPage = bs.find('li',{'class' : \"pagination-item pagination-item--next\"})\n",
    "        nextPage = nextPage.a.attrs['href']\n",
    "    except:\n",
    "        break"
   ]
  },
  {
   "cell_type": "code",
   "execution_count": null,
   "metadata": {},
   "outputs": [],
   "source": [
    "for price in bs.findAll('span',{'class':'price'}):\n",
    "    print(price.text)"
   ]
  },
  {
   "cell_type": "code",
   "execution_count": null,
   "metadata": {},
   "outputs": [],
   "source": []
  },
  {
   "cell_type": "code",
   "execution_count": null,
   "metadata": {},
   "outputs": [],
   "source": []
  }
 ],
 "metadata": {
  "kernelspec": {
   "display_name": "Python 3",
   "language": "python",
   "name": "python3"
  },
  "language_info": {
   "codemirror_mode": {
    "name": "ipython",
    "version": 3
   },
   "file_extension": ".py",
   "mimetype": "text/x-python",
   "name": "python",
   "nbconvert_exporter": "python",
   "pygments_lexer": "ipython3",
   "version": "3.8.5"
  }
 },
 "nbformat": 4,
 "nbformat_minor": 4
}
