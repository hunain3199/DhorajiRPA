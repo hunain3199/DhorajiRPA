{
 "cells": [
  {
   "cell_type": "code",
   "execution_count": 38,
   "id": "c7066702",
   "metadata": {},
   "outputs": [],
   "source": [
    "database = []"
   ]
  },
  {
   "cell_type": "code",
   "execution_count": 39,
   "id": "f72453cb",
   "metadata": {},
   "outputs": [],
   "source": [
    "summ = 0"
   ]
  },
  {
   "cell_type": "code",
   "execution_count": 40,
   "id": "35bd710a",
   "metadata": {},
   "outputs": [
    {
     "name": "stdout",
     "output_type": "stream",
     "text": [
      "Enter your name Hunain\n",
      "Enter your name Irfan\n",
      "Enter your age 20\n",
      "Enter your user id 3201\n",
      "Enter your education level Alevels\n",
      "Enter your name Hassan\n",
      "Enter your name Imran\n",
      "Enter your age 23\n",
      "Enter your user id 3202\n",
      "Enter your education level Alevels\n",
      "Enter your name Zain \n",
      "Enter your name Noman\n",
      "Enter your age 21\n",
      "Enter your user id 3203\n",
      "Enter your education level University\n",
      "Enter your name Hamza\n",
      "Enter your name Babar\n",
      "Enter your age 24\n",
      "Enter your user id 3204\n",
      "Enter your education level University\n",
      "Enter your name Muneeb\n",
      "Enter your name Akber\n",
      "Enter your age 19\n",
      "Enter your user id 3205\n",
      "Enter your education level Intermediate\n",
      "Enter your name Hamza\n",
      "Enter your name Anis\n",
      "Enter your age 24\n",
      "Enter your user id 3206\n",
      "Enter your education level Alevels\n",
      "Enter your name Khizer\n",
      "Enter your name Sohail\n",
      "Enter your age 27\n",
      "Enter your user id 3207\n",
      "Enter your education level University\n",
      "Enter your name Ahmed\n",
      "Enter your name Naeem\n",
      "Enter your age 24\n",
      "Enter your user id 3208\n",
      "Enter your education level Intermediate\n",
      "Enter your name Usama\n",
      "Enter your name Irfan\n",
      "Enter your age 28\n",
      "Enter your user id 3209\n",
      "Enter your education level Alevels\n",
      "Enter your name Hammad\n",
      "Enter your name Imran\n",
      "Enter your age 29\n",
      "Enter your user id 3210\n",
      "Enter your education level University\n"
     ]
    }
   ],
   "source": [
    "for i in range(10):\n",
    "    dict = {\n",
    "        \"first name\" : input(\"Enter your name \"),\n",
    "        \"last name\" : input(\"Enter your name \"),\n",
    "        \"age\"      : int(input(\"Enter your age \")),\n",
    "        \"uid\"     : int(input(\"Enter your user id \")),\n",
    "        \"Education\" : input(\"Enter your education level \"),\n",
    "    }\n",
    "    summ = summ + i\n",
    "    database.append(dict)\n",
    "\n",
    "\n",
    "    "
   ]
  },
  {
   "cell_type": "code",
   "execution_count": 41,
   "id": "68b2a6d8",
   "metadata": {},
   "outputs": [
    {
     "data": {
      "text/plain": [
       "[{'first name': 'Hunain',\n",
       "  'last name': 'Irfan',\n",
       "  'age': 20,\n",
       "  'uid': 3201,\n",
       "  'Education': 'Alevels'},\n",
       " {'first name': 'Hassan',\n",
       "  'last name': 'Imran',\n",
       "  'age': 23,\n",
       "  'uid': 3202,\n",
       "  'Education': 'Alevels'},\n",
       " {'first name': 'Zain ',\n",
       "  'last name': 'Noman',\n",
       "  'age': 21,\n",
       "  'uid': 3203,\n",
       "  'Education': 'University'},\n",
       " {'first name': 'Hamza',\n",
       "  'last name': 'Babar',\n",
       "  'age': 24,\n",
       "  'uid': 3204,\n",
       "  'Education': 'University'},\n",
       " {'first name': 'Muneeb',\n",
       "  'last name': 'Akber',\n",
       "  'age': 19,\n",
       "  'uid': 3205,\n",
       "  'Education': 'Intermediate'},\n",
       " {'first name': 'Hamza',\n",
       "  'last name': 'Anis',\n",
       "  'age': 24,\n",
       "  'uid': 3206,\n",
       "  'Education': 'Alevels'},\n",
       " {'first name': 'Khizer',\n",
       "  'last name': 'Sohail',\n",
       "  'age': 27,\n",
       "  'uid': 3207,\n",
       "  'Education': 'University'},\n",
       " {'first name': 'Ahmed',\n",
       "  'last name': 'Naeem',\n",
       "  'age': 24,\n",
       "  'uid': 3208,\n",
       "  'Education': 'Intermediate'},\n",
       " {'first name': 'Usama',\n",
       "  'last name': 'Irfan',\n",
       "  'age': 28,\n",
       "  'uid': 3209,\n",
       "  'Education': 'Alevels'},\n",
       " {'first name': 'Hammad',\n",
       "  'last name': 'Imran',\n",
       "  'age': 29,\n",
       "  'uid': 3210,\n",
       "  'Education': 'University'}]"
      ]
     },
     "execution_count": 41,
     "metadata": {},
     "output_type": "execute_result"
    }
   ],
   "source": [
    "database"
   ]
  },
  {
   "cell_type": "code",
   "execution_count": 42,
   "id": "f887e602",
   "metadata": {},
   "outputs": [
    {
     "name": "stdout",
     "output_type": "stream",
     "text": [
      "[{'first name': 'Hunain', 'last name': 'Irfan', 'age': 20, 'uid': 3201, 'Education': 'Alevels'}, {'first name': 'Hassan', 'last name': 'Imran', 'age': 23, 'uid': 3202, 'Education': 'Alevels'}, {'first name': 'Zain ', 'last name': 'Noman', 'age': 21, 'uid': 3203, 'Education': 'University'}, {'first name': 'Hamza', 'last name': 'Babar', 'age': 24, 'uid': 3204, 'Education': 'University'}, {'first name': 'Muneeb', 'last name': 'Akber', 'age': 19, 'uid': 3205, 'Education': 'Intermediate'}, {'first name': 'Hamza', 'last name': 'Anis', 'age': 24, 'uid': 3206, 'Education': 'Alevels'}, {'first name': 'Khizer', 'last name': 'Sohail', 'age': 27, 'uid': 3207, 'Education': 'University'}, {'first name': 'Ahmed', 'last name': 'Naeem', 'age': 24, 'uid': 3208, 'Education': 'Intermediate'}, {'first name': 'Usama', 'last name': 'Irfan', 'age': 28, 'uid': 3209, 'Education': 'Alevels'}, {'first name': 'Hammad', 'last name': 'Imran', 'age': 29, 'uid': 3210, 'Education': 'University'}]\n"
     ]
    }
   ],
   "source": [
    "print(database)"
   ]
  },
  {
   "cell_type": "code",
   "execution_count": 54,
   "id": "035bedba",
   "metadata": {},
   "outputs": [
    {
     "name": "stdout",
     "output_type": "stream",
     "text": [
      "{'first name': 'Hunain', 'last name': 'Irfan', 'age': 20, 'uid': 3201, 'Education': 'Alevels'}\n",
      "{'first name': 'Hassan', 'last name': 'Imran', 'age': 23, 'uid': 3202, 'Education': 'Alevels'}\n",
      "{'first name': 'Zain ', 'last name': 'Noman', 'age': 21, 'uid': 3203, 'Education': 'University'}\n",
      "{'first name': 'Hamza', 'last name': 'Babar', 'age': 24, 'uid': 3204, 'Education': 'University'}\n",
      "{'first name': 'Muneeb', 'last name': 'Akber', 'age': 19, 'uid': 3205, 'Education': 'Intermediate'}\n",
      "{'first name': 'Hamza', 'last name': 'Anis', 'age': 24, 'uid': 3206, 'Education': 'Alevels'}\n",
      "{'first name': 'Khizer', 'last name': 'Sohail', 'age': 27, 'uid': 3207, 'Education': 'University'}\n",
      "{'first name': 'Ahmed', 'last name': 'Naeem', 'age': 24, 'uid': 3208, 'Education': 'Intermediate'}\n",
      "{'first name': 'Hammad', 'last name': 'Imran', 'age': 29, 'uid': 3210, 'Education': 'University'}\n"
     ]
    }
   ],
   "source": [
    "for dictionaryy in database:\n",
    "    if dictionaryy[\"age\"] >=18:\n",
    "        print(dictionaryy)"
   ]
  },
  {
   "cell_type": "code",
   "execution_count": 45,
   "id": "067b7c0c",
   "metadata": {},
   "outputs": [],
   "source": [
    "deleted_element = database.pop(8)"
   ]
  },
  {
   "cell_type": "code",
   "execution_count": 46,
   "id": "22a21463",
   "metadata": {},
   "outputs": [
    {
     "name": "stdout",
     "output_type": "stream",
     "text": [
      "{'first name': 'Usama', 'last name': 'Irfan', 'age': 28, 'uid': 3209, 'Education': 'Alevels'}\n"
     ]
    }
   ],
   "source": [
    "print(deleted_element)"
   ]
  },
  {
   "cell_type": "code",
   "execution_count": 47,
   "id": "c0151f38",
   "metadata": {},
   "outputs": [
    {
     "name": "stdout",
     "output_type": "stream",
     "text": [
      "[{'first name': 'Hunain', 'last name': 'Irfan', 'age': 20, 'uid': 3201, 'Education': 'Alevels'}, {'first name': 'Hassan', 'last name': 'Imran', 'age': 23, 'uid': 3202, 'Education': 'Alevels'}, {'first name': 'Zain ', 'last name': 'Noman', 'age': 21, 'uid': 3203, 'Education': 'University'}, {'first name': 'Hamza', 'last name': 'Babar', 'age': 24, 'uid': 3204, 'Education': 'University'}, {'first name': 'Muneeb', 'last name': 'Akber', 'age': 19, 'uid': 3205, 'Education': 'Intermediate'}, {'first name': 'Hamza', 'last name': 'Anis', 'age': 24, 'uid': 3206, 'Education': 'Alevels'}, {'first name': 'Khizer', 'last name': 'Sohail', 'age': 27, 'uid': 3207, 'Education': 'University'}, {'first name': 'Ahmed', 'last name': 'Naeem', 'age': 24, 'uid': 3208, 'Education': 'Intermediate'}, {'first name': 'Hammad', 'last name': 'Imran', 'age': 29, 'uid': 3210, 'Education': 'University'}]\n"
     ]
    }
   ],
   "source": [
    "print(database)"
   ]
  },
  {
   "cell_type": "code",
   "execution_count": 51,
   "id": "67780277",
   "metadata": {},
   "outputs": [],
   "source": [
    "student ={\n",
    "    \"first name\" : \"Usama\",\n",
    "    \"last name\" : \"Haroon\",\n",
    "    \"age\"       :16,\n",
    "    \"uid\"       :3209,\n",
    "    \"Education\" :\"Matric\",\n",
    "}"
   ]
  },
  {
   "cell_type": "code",
   "execution_count": 52,
   "id": "51487238",
   "metadata": {},
   "outputs": [],
   "source": [
    "database.insert(8,student)"
   ]
  },
  {
   "cell_type": "code",
   "execution_count": 53,
   "id": "e934ebb2",
   "metadata": {},
   "outputs": [
    {
     "name": "stdout",
     "output_type": "stream",
     "text": [
      "[{'first name': 'Hunain', 'last name': 'Irfan', 'age': 20, 'uid': 3201, 'Education': 'Alevels'}, {'first name': 'Hassan', 'last name': 'Imran', 'age': 23, 'uid': 3202, 'Education': 'Alevels'}, {'first name': 'Zain ', 'last name': 'Noman', 'age': 21, 'uid': 3203, 'Education': 'University'}, {'first name': 'Hamza', 'last name': 'Babar', 'age': 24, 'uid': 3204, 'Education': 'University'}, {'first name': 'Muneeb', 'last name': 'Akber', 'age': 19, 'uid': 3205, 'Education': 'Intermediate'}, {'first name': 'Hamza', 'last name': 'Anis', 'age': 24, 'uid': 3206, 'Education': 'Alevels'}, {'first name': 'Khizer', 'last name': 'Sohail', 'age': 27, 'uid': 3207, 'Education': 'University'}, {'first name': 'Ahmed', 'last name': 'Naeem', 'age': 24, 'uid': 3208, 'Education': 'Intermediate'}, {'first name': 'Usama', 'last name': 'Haroon', 'age': 16, 'uid': 3209, 'Education': 'Matric'}, {'first name': 'Hammad', 'last name': 'Imran', 'age': 29, 'uid': 3210, 'Education': 'University'}]\n"
     ]
    }
   ],
   "source": [
    "print(database)"
   ]
  },
  {
   "cell_type": "code",
   "execution_count": 55,
   "id": "ded3d119",
   "metadata": {},
   "outputs": [
    {
     "name": "stdout",
     "output_type": "stream",
     "text": [
      "{'first name': 'Usama', 'last name': 'Haroon', 'age': 16, 'uid': 3209, 'Education': 'Matric'}\n"
     ]
    }
   ],
   "source": [
    "for dictionaryy in database:\n",
    "    if dictionaryy[\"Education\"] == \"Matric\":\n",
    "        print(dictionaryy)"
   ]
  },
  {
   "cell_type": "code",
   "execution_count": 56,
   "id": "58d08096",
   "metadata": {},
   "outputs": [
    {
     "name": "stdout",
     "output_type": "stream",
     "text": [
      "{'first name': 'Hunain', 'last name': 'Irfan', 'age': 20, 'uid': 3201, 'Education': 'Alevels'}\n",
      "{'first name': 'Hassan', 'last name': 'Imran', 'age': 23, 'uid': 3202, 'Education': 'Alevels'}\n",
      "{'first name': 'Hamza', 'last name': 'Anis', 'age': 24, 'uid': 3206, 'Education': 'Alevels'}\n"
     ]
    }
   ],
   "source": [
    "for dictionaryy in database:\n",
    "    if dictionaryy[\"Education\"] == \"Alevels\":\n",
    "        print(dictionaryy)"
   ]
  },
  {
   "cell_type": "code",
   "execution_count": 57,
   "id": "3fb88ade",
   "metadata": {},
   "outputs": [
    {
     "name": "stdout",
     "output_type": "stream",
     "text": [
      "{'first name': 'Muneeb', 'last name': 'Akber', 'age': 19, 'uid': 3205, 'Education': 'Intermediate'}\n",
      "{'first name': 'Ahmed', 'last name': 'Naeem', 'age': 24, 'uid': 3208, 'Education': 'Intermediate'}\n"
     ]
    }
   ],
   "source": [
    "for dictionaryy in database:\n",
    "    if dictionaryy[\"Education\"] == \"Intermediate\":\n",
    "        print(dictionaryy)"
   ]
  },
  {
   "cell_type": "code",
   "execution_count": 58,
   "id": "773a35cf",
   "metadata": {},
   "outputs": [
    {
     "name": "stdout",
     "output_type": "stream",
     "text": [
      "{'first name': 'Zain ', 'last name': 'Noman', 'age': 21, 'uid': 3203, 'Education': 'University'}\n",
      "{'first name': 'Hamza', 'last name': 'Babar', 'age': 24, 'uid': 3204, 'Education': 'University'}\n",
      "{'first name': 'Khizer', 'last name': 'Sohail', 'age': 27, 'uid': 3207, 'Education': 'University'}\n",
      "{'first name': 'Hammad', 'last name': 'Imran', 'age': 29, 'uid': 3210, 'Education': 'University'}\n"
     ]
    }
   ],
   "source": [
    "for dictionaryy in database:\n",
    "    if dictionaryy[\"Education\"] == \"University\":\n",
    "        print(dictionaryy)"
   ]
  },
  {
   "cell_type": "code",
   "execution_count": 59,
   "id": "7be56186",
   "metadata": {},
   "outputs": [
    {
     "name": "stdout",
     "output_type": "stream",
     "text": [
      "{'first name': 'Hassan', 'last name': 'Imran', 'age': 23, 'uid': 3202, 'Education': 'Alevels'}\n",
      "{'first name': 'Zain ', 'last name': 'Noman', 'age': 21, 'uid': 3203, 'Education': 'University'}\n",
      "{'first name': 'Hamza', 'last name': 'Babar', 'age': 24, 'uid': 3204, 'Education': 'University'}\n",
      "{'first name': 'Muneeb', 'last name': 'Akber', 'age': 19, 'uid': 3205, 'Education': 'Intermediate'}\n",
      "{'first name': 'Hamza', 'last name': 'Anis', 'age': 24, 'uid': 3206, 'Education': 'Alevels'}\n"
     ]
    }
   ],
   "source": [
    "for dictionaryy in database:\n",
    "    if dictionaryy[\"uid\"] >= 3202 and dictionaryy[\"uid\"] <= 3206:\n",
    "        print(dictionaryy)"
   ]
  },
  {
   "cell_type": "code",
   "execution_count": 60,
   "id": "6c0ea9cf",
   "metadata": {},
   "outputs": [
    {
     "name": "stdout",
     "output_type": "stream",
     "text": [
      "{'first name': 'Hassan', 'last name': 'Imran', 'age': 23, 'uid': 3202, 'Education': 'Alevels'}\n",
      "{'first name': 'Hammad', 'last name': 'Imran', 'age': 29, 'uid': 3210, 'Education': 'University'}\n"
     ]
    }
   ],
   "source": [
    "for dictionaryy in database:\n",
    "    if dictionaryy[\"last name\"] == \"Imran\":\n",
    "        print(dictionaryy)"
   ]
  },
  {
   "cell_type": "code",
   "execution_count": 62,
   "id": "7b104c65",
   "metadata": {},
   "outputs": [
    {
     "name": "stdout",
     "output_type": "stream",
     "text": [
      "{'first name': 'Hunain', 'last name': 'Irfan', 'age': 20, 'uid': 3201, 'Education': 'Alevels'}\n"
     ]
    }
   ],
   "source": [
    "for dictionaryy in database:\n",
    "    if dictionaryy[\"last name\"] == \"Irfan\":\n",
    "        print(dictionaryy)\n",
    "        "
   ]
  },
  {
   "cell_type": "code",
   "execution_count": 66,
   "id": "6dfe53a6",
   "metadata": {},
   "outputs": [
    {
     "name": "stdout",
     "output_type": "stream",
     "text": [
      "{'first name': 'Usama', 'last name': 'Haroon', 'age': 16, 'uid': 3209, 'Education': 'Matric'}\n"
     ]
    }
   ],
   "source": [
    "for dictionaryy in database:\n",
    "    if dictionaryy[\"age\"] < 18:\n",
    "        print(dictionaryy)"
   ]
  },
  {
   "cell_type": "code",
   "execution_count": null,
   "id": "ab064b0c",
   "metadata": {},
   "outputs": [],
   "source": []
  }
 ],
 "metadata": {
  "kernelspec": {
   "display_name": "Python 3",
   "language": "python",
   "name": "python3"
  },
  "language_info": {
   "codemirror_mode": {
    "name": "ipython",
    "version": 3
   },
   "file_extension": ".py",
   "mimetype": "text/x-python",
   "name": "python",
   "nbconvert_exporter": "python",
   "pygments_lexer": "ipython3",
   "version": "3.8.8"
  }
 },
 "nbformat": 4,
 "nbformat_minor": 5
}
