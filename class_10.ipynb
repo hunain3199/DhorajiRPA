{
 "cells": [
  {
   "cell_type": "markdown",
   "metadata": {},
   "source": [
    "# while loops"
   ]
  },
  {
   "cell_type": "code",
   "execution_count": 7,
   "metadata": {},
   "outputs": [
    {
     "name": "stdout",
     "output_type": "stream",
     "text": [
      "Enter Number or press q to quit1\n",
      "[1]\n",
      "Enter Number or press q to quit2\n",
      "[1, 2]\n",
      "Enter Number or press q to quit3\n",
      "[1, 2, 3]\n",
      "Enter Number or press q to quit4\n",
      "[1, 2, 3, 4]\n",
      "Enter Number or press q to quit5\n",
      "[1, 2, 3, 4, 5]\n",
      "Enter Number or press q to quitq\n"
     ]
    }
   ],
   "source": [
    "userinput = ''\n",
    "nums = []\n",
    "\n",
    "while userinput != \"q\":\n",
    "    num = input(\"Enter Number or press q to quit\")\n",
    "    \n",
    "    if num == \"q\":\n",
    "        break\n",
    "    \n",
    "    else:\n",
    "        nums.append(int(num))\n",
    "        print(nums)"
   ]
  },
  {
   "cell_type": "code",
   "execution_count": 8,
   "metadata": {},
   "outputs": [
    {
     "data": {
      "text/plain": [
       "[1, 2, 3, 4, 5]"
      ]
     },
     "execution_count": 8,
     "metadata": {},
     "output_type": "execute_result"
    }
   ],
   "source": [
    "nums"
   ]
  },
  {
   "cell_type": "code",
   "execution_count": 15,
   "metadata": {},
   "outputs": [
    {
     "name": "stdout",
     "output_type": "stream",
     "text": [
      "1\n",
      "2\n",
      "3\n",
      "4\n",
      "5\n",
      "6\n",
      "7\n",
      "8\n",
      "9\n",
      "10\n"
     ]
    }
   ],
   "source": [
    "num = 0\n",
    "while num < 10:\n",
    "    num = num + 1\n",
    "    print(num)\n",
    "    \n",
    "   "
   ]
  },
  {
   "cell_type": "markdown",
   "metadata": {},
   "source": [
    "# Take 5 Questions"
   ]
  },
  {
   "cell_type": "markdown",
   "metadata": {},
   "source": [
    "## "
   ]
  }
 ],
 "metadata": {
  "kernelspec": {
   "display_name": "Python 3",
   "language": "python",
   "name": "python3"
  },
  "language_info": {
   "codemirror_mode": {
    "name": "ipython",
    "version": 3
   },
   "file_extension": ".py",
   "mimetype": "text/x-python",
   "name": "python",
   "nbconvert_exporter": "python",
   "pygments_lexer": "ipython3",
   "version": "3.8.5"
  }
 },
 "nbformat": 4,
 "nbformat_minor": 4
}
