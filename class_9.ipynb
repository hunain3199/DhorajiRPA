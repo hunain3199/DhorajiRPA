{
 "cells": [
  {
   "cell_type": "markdown",
   "metadata": {},
   "source": [
    "# More about Functions"
   ]
  },
  {
   "cell_type": "markdown",
   "metadata": {},
   "source": [
    "# Positional arguments and keyword arguments"
   ]
  },
  {
   "cell_type": "code",
   "execution_count": 2,
   "metadata": {},
   "outputs": [],
   "source": [
    "def calc(firstnum,lastnum,operator):\n",
    "    if operator == \"+\":\n",
    "        total = firstnum + lastnum\n",
    "        print(total)\n",
    "        \n",
    "    elif operator == \"-\":\n",
    "        total = firstnum - lastnum\n",
    "        print(total)\n",
    "        \n",
    "    elif operator == \"*\":\n",
    "        total = firstnum * lastnum\n",
    "        print(total)\n",
    "        \n",
    "    elif operator == \"/\":\n",
    "        total = firstnum / lastnum\n",
    "        print(total)\n",
    "    else:\n",
    "        print(\"Error\")"
   ]
  },
  {
   "cell_type": "code",
   "execution_count": 3,
   "metadata": {},
   "outputs": [
    {
     "name": "stdout",
     "output_type": "stream",
     "text": [
      "9\n"
     ]
    }
   ],
   "source": [
    "calc(4,5,\"+\")#positional argument"
   ]
  },
  {
   "cell_type": "code",
   "execution_count": 4,
   "metadata": {},
   "outputs": [
    {
     "name": "stdout",
     "output_type": "stream",
     "text": [
      "2\n"
     ]
    }
   ],
   "source": [
    "calc(lastnum = 7,firstnum = 9,operator = \"-\") #keyword arguments"
   ]
  },
  {
   "cell_type": "code",
   "execution_count": 5,
   "metadata": {},
   "outputs": [],
   "source": [
    "def gret(name,greet = \"wELCOME\"):\n",
    "    print(greet + \" \" + name)"
   ]
  },
  {
   "cell_type": "code",
   "execution_count": 6,
   "metadata": {},
   "outputs": [
    {
     "name": "stdout",
     "output_type": "stream",
     "text": [
      "wELCOME Hunain\n"
     ]
    }
   ],
   "source": [
    "gret(\"Hunain\") # default arguments"
   ]
  },
  {
   "cell_type": "code",
   "execution_count": 7,
   "metadata": {},
   "outputs": [
    {
     "name": "stdout",
     "output_type": "stream",
     "text": [
      "Congrats Hunain\n"
     ]
    }
   ],
   "source": [
    "gret(\"Hunain\",\"Congrats\") #we can change default arguments"
   ]
  },
  {
   "cell_type": "code",
   "execution_count": 9,
   "metadata": {},
   "outputs": [],
   "source": [
    "def info(name,age,qualification,**otherInformation):\n",
    "    student = {\n",
    "        \"name\" : name,\n",
    "        \"age\"  : age,\n",
    "        \"qualification\" : qualification\n",
    "    }\n",
    "    print(student)\n",
    "    print(otherInformation) # use ** with variable to add other information"
   ]
  },
  {
   "cell_type": "code",
   "execution_count": 11,
   "metadata": {},
   "outputs": [
    {
     "name": "stdout",
     "output_type": "stream",
     "text": [
      "{'name': 'Hunain', 'age': '20', 'qualification': 'Alevels'}\n",
      "{'ExtraActivities': 'Teaching'}\n"
     ]
    }
   ],
   "source": [
    "info(\"Hunain\",\"20\",\"Alevels\",ExtraActivities = \"Teaching\")"
   ]
  },
  {
   "cell_type": "markdown",
   "metadata": {},
   "source": [
    "### Print And Return Difference"
   ]
  },
  {
   "cell_type": "code",
   "execution_count": 23,
   "metadata": {},
   "outputs": [],
   "source": [
    "def salee(saletax,taxrate):\n",
    "    totaltax = saletax * taxrate\n",
    "    print(totaltax)"
   ]
  },
  {
   "cell_type": "code",
   "execution_count": 24,
   "metadata": {},
   "outputs": [
    {
     "data": {
      "text/plain": [
       "600"
      ]
     },
     "execution_count": 24,
     "metadata": {},
     "output_type": "execute_result"
    }
   ],
   "source": [
    "sale(20,30) # print #it can only be print i cant be changed."
   ]
  },
  {
   "cell_type": "code",
   "execution_count": 25,
   "metadata": {},
   "outputs": [
    {
     "name": "stdout",
     "output_type": "stream",
     "text": [
      "1200\n"
     ]
    }
   ],
   "source": [
    "taxx = salee(30,40)"
   ]
  },
  {
   "cell_type": "code",
   "execution_count": 32,
   "metadata": {},
   "outputs": [
    {
     "name": "stdout",
     "output_type": "stream",
     "text": [
      "None\n"
     ]
    }
   ],
   "source": [
    "print(taxx)#due to this print values cant be return and save in the variable"
   ]
  },
  {
   "cell_type": "code",
   "execution_count": 27,
   "metadata": {},
   "outputs": [],
   "source": [
    "def sale(saletax,taxrate):\n",
    "    totaltax = saletax * taxrate\n",
    "    return(totaltax)"
   ]
  },
  {
   "cell_type": "code",
   "execution_count": 28,
   "metadata": {},
   "outputs": [
    {
     "data": {
      "text/plain": [
       "600"
      ]
     },
     "execution_count": 28,
     "metadata": {},
     "output_type": "execute_result"
    }
   ],
   "source": [
    "sale(20,30)"
   ]
  },
  {
   "cell_type": "code",
   "execution_count": 29,
   "metadata": {},
   "outputs": [
    {
     "data": {
      "text/plain": [
       "60.0"
      ]
     },
     "execution_count": 29,
     "metadata": {},
     "output_type": "execute_result"
    }
   ],
   "source": [
    "sale(20,30) / 10 #return #in return we can do other operations and value should also be changed due to return method."
   ]
  },
  {
   "cell_type": "code",
   "execution_count": 30,
   "metadata": {},
   "outputs": [],
   "source": [
    "tax = sale(30,40)#saving return value of function in variable"
   ]
  },
  {
   "cell_type": "code",
   "execution_count": 31,
   "metadata": {},
   "outputs": [
    {
     "name": "stdout",
     "output_type": "stream",
     "text": [
      "1200\n"
     ]
    }
   ],
   "source": [
    "print(tax)"
   ]
  },
  {
   "cell_type": "code",
   "execution_count": 72,
   "metadata": {},
   "outputs": [
    {
     "data": {
      "text/plain": [
       "1000"
      ]
     },
     "execution_count": 72,
     "metadata": {},
     "output_type": "execute_result"
    }
   ],
   "source": [
    "def saleee(saletaxx,taxratee):\n",
    "    global taxex\n",
    "    taxex = saletaxx * taxratee\n",
    "    return(taxex)\n",
    "saleee(20,50)\n",
    "#taxfinal = saleee(20,10) #global keyword is used for calling the value which has been return by the return keyword anywhere anytime\n"
   ]
  },
  {
   "cell_type": "code",
   "execution_count": 73,
   "metadata": {},
   "outputs": [
    {
     "name": "stdout",
     "output_type": "stream",
     "text": [
      "1000\n"
     ]
    }
   ],
   "source": [
    "print(taxex)"
   ]
  },
  {
   "cell_type": "markdown",
   "metadata": {},
   "source": [
    "# Assignment"
   ]
  },
  {
   "cell_type": "markdown",
   "metadata": {},
   "source": [
    "# School Discount "
   ]
  },
  {
   "cell_type": "code",
   "execution_count": 118,
   "metadata": {},
   "outputs": [],
   "source": [
    "package1 = {\n",
    "    \"discount\" : 50\n",
    "}\n",
    "package2 = {\n",
    "    \"discount\" : 30\n",
    "}\n",
    "package3 = {\n",
    "    \"discount\" : 10\n",
    "    \n",
    "}"
   ]
  },
  {
   "cell_type": "code",
   "execution_count": 119,
   "metadata": {},
   "outputs": [],
   "source": [
    "monthlyfees = 1000"
   ]
  },
  {
   "cell_type": "code",
   "execution_count": 120,
   "metadata": {},
   "outputs": [
    {
     "name": "stdout",
     "output_type": "stream",
     "text": [
      "Your Amount payable before discount is 1000\n"
     ]
    }
   ],
   "source": [
    "print(\"Your Amount payable before discount is \" + str(monthlyfees))"
   ]
  },
  {
   "cell_type": "code",
   "execution_count": 113,
   "metadata": {},
   "outputs": [],
   "source": [
    "def package_1():\n",
    "    discountAmount = (monthlyfees * 50) / 100\n",
    "    print(\"Your Amount payable after discount is \"+ str(discountAmount))"
   ]
  },
  {
   "cell_type": "code",
   "execution_count": 114,
   "metadata": {},
   "outputs": [],
   "source": [
    "def package_2():\n",
    "    discountAmount = (monthlyfees * 70) / 100\n",
    "    print(\"Your Amount payable after discount is \"+ str(discountAmount))"
   ]
  },
  {
   "cell_type": "code",
   "execution_count": 115,
   "metadata": {},
   "outputs": [],
   "source": [
    "def package_3():\n",
    "    discountAmount = (monthlyfees * 90) / 100\n",
    "    print(\"Your Amount payable after discount is \"+ str(discountAmount))"
   ]
  },
  {
   "cell_type": "code",
   "execution_count": 116,
   "metadata": {},
   "outputs": [
    {
     "name": "stdout",
     "output_type": "stream",
     "text": [
      "Your Amount payable after discount is 900.0\n"
     ]
    }
   ],
   "source": [
    "if user_input == package1[discount]:\n",
    "    package_1()\n",
    "elif user_input == 30:\n",
    "    package_2()\n",
    "elif user_input == 10:\n",
    "    package_3()\n",
    "else:\n",
    "    print(\"You do not have select any package \")"
   ]
  },
  {
   "cell_type": "code",
   "execution_count": 1,
   "metadata": {},
   "outputs": [],
   "source": [
    "#function with in functions"
   ]
  },
  {
   "cell_type": "code",
   "execution_count": 7,
   "metadata": {},
   "outputs": [],
   "source": [
    "def calc(num1,num2):\n",
    "    def add(num1,num2):\n",
    "        res = num1 + num2\n",
    "        print(res)\n",
    "    add(num1,num2)\n",
    "    def sub(num1,num2):\n",
    "        res = num1 - num2\n",
    "        print(res)\n",
    "    sub(num1,num2)"
   ]
  },
  {
   "cell_type": "code",
   "execution_count": 8,
   "metadata": {},
   "outputs": [
    {
     "name": "stdout",
     "output_type": "stream",
     "text": [
      "6\n",
      "-2\n",
      "None\n"
     ]
    }
   ],
   "source": [
    "print(calc(2,4))"
   ]
  },
  {
   "cell_type": "code",
   "execution_count": null,
   "metadata": {},
   "outputs": [],
   "source": []
  }
 ],
 "metadata": {
  "kernelspec": {
   "display_name": "Python 3",
   "language": "python",
   "name": "python3"
  },
  "language_info": {
   "codemirror_mode": {
    "name": "ipython",
    "version": 3
   },
   "file_extension": ".py",
   "mimetype": "text/x-python",
   "name": "python",
   "nbconvert_exporter": "python",
   "pygments_lexer": "ipython3",
   "version": "3.8.5"
  }
 },
 "nbformat": 4,
 "nbformat_minor": 4
}
